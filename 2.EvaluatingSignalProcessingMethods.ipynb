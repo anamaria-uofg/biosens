{
 "cells": [
  {
   "cell_type": "code",
   "execution_count": 56,
   "metadata": {},
   "outputs": [],
   "source": [
    "%matplotlib inline\n",
    "from matplotlib import pyplot as plt\n",
    "import numpy as np\n",
    "import random\n",
    "import math\n",
    "import time\n",
    "import copy\n",
    "import pickle\n",
    "import sys"
   ]
  },
  {
   "cell_type": "code",
   "execution_count": null,
   "metadata": {},
   "outputs": [],
   "source": []
  },
  {
   "cell_type": "code",
   "execution_count": 57,
   "metadata": {},
   "outputs": [],
   "source": [
    "basedir = '/Users/anamaria/git/biosens/blob_detection'\n",
    "sys.path.append(basedir)\n",
    "from particle import Circle\n",
    "import smc"
   ]
  },
  {
   "cell_type": "code",
   "execution_count": 58,
   "metadata": {},
   "outputs": [],
   "source": [
    "nice_fonts = {\"text.usetex\": True,\n",
    "            \"font.family\": \"serif\",\n",
    "            \"font.serif\" : \"Times New Roman\"}\n",
    "plt.rcParams.update(nice_fonts)\n",
    "\n",
    "plt.rc('font', family='serif', size=19)\n",
    "plt.rc('xtick', labelsize=15)\n",
    "plt.rc('ytick', labelsize=15)\n"
   ]
  },
  {
   "cell_type": "code",
   "execution_count": 59,
   "metadata": {},
   "outputs": [
    {
     "name": "stdout",
     "output_type": "stream",
     "text": [
      "The autoreload extension is already loaded. To reload it, use:\n",
      "  %reload_ext autoreload\n"
     ]
    }
   ],
   "source": [
    "#for runnning the modified function\n",
    "%load_ext autoreload\n",
    "%autoreload 2"
   ]
  },
  {
   "cell_type": "markdown",
   "metadata": {},
   "source": [
    "# Running SMC\n"
   ]
  },
  {
   "cell_type": "markdown",
   "metadata": {},
   "source": [
    "Set the attributes of the Circle object for generating a synthetic image array."
   ]
  },
  {
   "cell_type": "code",
   "execution_count": 60,
   "metadata": {
    "scrolled": true
   },
   "outputs": [],
   "source": [
    "syntx = 4.0\n",
    "synty = 6.0\n",
    "syntr = 3.0\n",
    "synti = 10.0"
   ]
  },
  {
   "cell_type": "markdown",
   "metadata": {},
   "source": [
    "Generate the image with the above attributes."
   ]
  },
  {
   "cell_type": "code",
   "execution_count": 61,
   "metadata": {},
   "outputs": [
    {
     "name": "stdout",
     "output_type": "stream",
     "text": [
      "-0.8902320741302816 0.37428981507281484 -6.669182442537739 3.8982023213621444\n"
     ]
    }
   ],
   "source": [
    "#Deterministic approach\n",
    "maxs = []\n",
    "means = []\n",
    "for i in range(100):\n",
    "    syntcircle = smc.generate_particles(1, variance = 20, coord = [[syntx, synty, syntr, synti]], \n",
    "                                baseline_value=0, add_noise = True)\n",
    "    maxs.append(np.max(sorted(np.array(syntcircle[0].image_array_noise).reshape(256,1))[-28:-1]))\n",
    "    means.append(np.mean(sorted(np.array(syntcircle[0].image_array_noise).reshape(256,1))[-28:-1]))\n",
    "    \n",
    "print(synti- np.mean(means), np.var(means),synti - np.mean(maxs),np.var(maxs))    "
   ]
  },
  {
   "cell_type": "code",
   "execution_count": 62,
   "metadata": {},
   "outputs": [],
   "source": [
    "def locate(array, val):\n",
    "    q = []\n",
    "    vIn = 40\n",
    "    vOut = 0\n",
    "    for i in range(16):\n",
    "        for j in range(16):\n",
    "                if array[i][j] == np.max(val):\n",
    "                    q.append(100)\n",
    "                elif array[i][j] in val:\n",
    "                    q.append(vIn)\n",
    "                else:\n",
    "                    q.append(vOut)\n",
    "    q = np.array(q).reshape(16,16)\n",
    "    return q"
   ]
  },
  {
   "cell_type": "code",
   "execution_count": null,
   "metadata": {},
   "outputs": [],
   "source": []
  },
  {
   "cell_type": "code",
   "execution_count": 18,
   "metadata": {},
   "outputs": [],
   "source": [
    "#GPR approach\n",
    "insts = []\n",
    "images = []\n",
    "for i in range(100):\n",
    "    inst = np.random.choice(25,1)\n",
    "    insts.append(inst[0])\n",
    "    variance = np.random.choice(20,1)[0]\n",
    "    \n",
    "    syntcircle = smc.generate_particles(1, variance = variance, coord = [[syntx, synty, syntr, inst]], \n",
    "                                baseline_value=0, add_noise = True)\n",
    "    images.append(np.array(syntcircle[0].image_array_noise.reshape(1,256)[0]))\n",
    "    \n",
    "#"
   ]
  },
  {
   "cell_type": "code",
   "execution_count": 10,
   "metadata": {},
   "outputs": [],
   "source": [
    "insts = []\n",
    "allc = []\n",
    "images = []\n",
    "f = []\n",
    "for i in range(100):\n",
    "    inst = np.random.choice(25,1)[0]\n",
    "    x = np.random.choice(16,1)[0]\n",
    "    y = np.random.choice(16,1)[0]\n",
    "    r = np.random.choice(8,1)[0]\n",
    "    \n",
    "    f.append((inst,x,y,r))\n",
    "    variance = np.random.choice(20,1)[0]\n",
    "    syntcircle = smc.generate_particles(1, variance = 5, coord = [[x, y, r, inst]], \n",
    "                                baseline_value=0, add_noise = True)\n",
    "    images.append(np.array(syntcircle[0].image_array_noise.reshape(1,256)[0]))\n",
    "    "
   ]
  },
  {
   "cell_type": "code",
   "execution_count": 11,
   "metadata": {},
   "outputs": [],
   "source": [
    "from sklearn.model_selection import train_test_split\n",
    "training_data, test_data, training_data_target, test_data_target = train_test_split(images ,\n",
    "                                                            f, test_size=0.33)   "
   ]
  },
  {
   "cell_type": "markdown",
   "metadata": {},
   "source": [
    "## Trying different kernels"
   ]
  },
  {
   "cell_type": "code",
   "execution_count": 12,
   "metadata": {},
   "outputs": [
    {
     "name": "stdout",
     "output_type": "stream",
     "text": [
      "\n",
      "Name : GP regression\n",
      "Objective : 4334.3893004099045\n",
      "Number of Parameters : 4\n",
      "Number of Optimization Parameters : 4\n",
      "Updates : True\n",
      "Parameters:\n",
      "  \u001b[1mGP_regression.         \u001b[0;0m  |  value  |  constraints  |  priors\n",
      "  \u001b[1mmlp.variance           \u001b[0;0m  |    1.0  |      +ve      |        \n",
      "  \u001b[1mmlp.weight_variance    \u001b[0;0m  |    1.0  |      +ve      |        \n",
      "  \u001b[1mmlp.bias_variance      \u001b[0;0m  |    1.0  |      +ve      |        \n",
      "  \u001b[1mGaussian_noise.variance\u001b[0;0m  |    1.0  |      +ve      |        \n",
      "\n",
      "Name : GP regression\n",
      "Objective : 798.5280133008548\n",
      "Number of Parameters : 4\n",
      "Number of Optimization Parameters : 4\n",
      "Updates : True\n",
      "Parameters:\n",
      "  \u001b[1mGP_regression.         \u001b[0;0m  |               value  |  constraints  |  priors\n",
      "  \u001b[1mmlp.variance           \u001b[0;0m  |  166.25433817748055  |      +ve      |        \n",
      "  \u001b[1mmlp.weight_variance    \u001b[0;0m  |  151.72987075544182  |      +ve      |        \n",
      "  \u001b[1mmlp.bias_variance      \u001b[0;0m  |  33404590.947783116  |      +ve      |        \n",
      "  \u001b[1mGaussian_noise.variance\u001b[0;0m  |   3.682670360238739  |      +ve      |        \n",
      "0.4642698124690268 2.6478664342393516 14.46401996155256\n"
     ]
    }
   ],
   "source": [
    "import GPy\n",
    "k_nn = GPy.kern.MLP(256)\n",
    "model_nn = GPy.models.GPRegression(np.array(training_data),\n",
    "#                                       np.array(training_data_target)[:,None],\n",
    "                                   np.array(training_data_target),\n",
    "                                            k_nn)\n",
    "print(model_nn)\n",
    "\n",
    "model_nn.optimize()\n",
    "print(model_nn)\n",
    "\n",
    "from sklearn import metrics\n",
    "\n",
    "accuracy = metrics.r2_score(test_data_target, model_nn.predict(np.array(test_data))[0])\n",
    "mae = metrics.mean_absolute_error(test_data_target, model_nn.predict(np.array(test_data))[0])\n",
    "mse = metrics.mean_squared_error(test_data_target, model_nn.predict(np.array(test_data))[0])\n",
    "\n",
    "print(accuracy, mae, mse)"
   ]
  },
  {
   "cell_type": "code",
   "execution_count": 14,
   "metadata": {
    "collapsed": true
   },
   "outputs": [
    {
     "name": "stdout",
     "output_type": "stream",
     "text": [
      "\n",
      "Name : GP regression\n",
      "Objective : 6186.407220527635\n",
      "Number of Parameters : 3\n",
      "Number of Optimization Parameters : 3\n",
      "Updates : True\n",
      "Parameters:\n",
      "  \u001b[1mGP_regression.         \u001b[0;0m  |  value  |  constraints  |  priors\n",
      "  \u001b[1mrbf.variance           \u001b[0;0m  |    1.0  |      +ve      |        \n",
      "  \u001b[1mrbf.lengthscale        \u001b[0;0m  |    1.0  |      +ve      |        \n",
      "  \u001b[1mGaussian_noise.variance\u001b[0;0m  |    1.0  |      +ve      |        \n",
      "\n",
      "Name : GP regression\n",
      "Objective : 979.1260996274173\n",
      "Number of Parameters : 3\n",
      "Number of Optimization Parameters : 3\n",
      "Updates : True\n",
      "Parameters:\n",
      "  \u001b[1mGP_regression.         \u001b[0;0m  |              value  |  constraints  |  priors\n",
      "  \u001b[1mrbf.variance           \u001b[0;0m  |  43.63619341944318  |      +ve      |        \n",
      "  \u001b[1mrbf.lengthscale        \u001b[0;0m  |                1.0  |      +ve      |        \n",
      "  \u001b[1mGaussian_noise.variance\u001b[0;0m  |  43.63619341944322  |      +ve      |        \n",
      "-2.835093570974349 8.159090909090908 109.00757575757575\n"
     ]
    }
   ],
   "source": [
    "import GPy\n",
    "k_rbf = GPy.kern.RBF(input_dim = 256)\n",
    "model_rbf = GPy.models.GPRegression(np.array(training_data),\n",
    "                                      np.array(training_data_target)[:,None],\n",
    "                                            k_rbf)\n",
    "print(model_rbf)\n",
    "\n",
    "model_rbf.optimize()\n",
    "print(model_rbf)\n",
    "\n",
    "from sklearn import metrics\n",
    "\n",
    "accuracy = metrics.r2_score(test_data_target, model_rbf.predict(np.array(test_data))[0])\n",
    "mae = metrics.mean_absolute_error(test_data_target, model_rbf.predict(np.array(test_data))[0])\n",
    "mse = metrics.mean_squared_error(test_data_target, model_rbf.predict(np.array(test_data))[0])\n",
    "\n",
    "print(accuracy, mae, mse)"
   ]
  },
  {
   "cell_type": "code",
   "execution_count": 12,
   "metadata": {
    "collapsed": true
   },
   "outputs": [
    {
     "name": "stdout",
     "output_type": "stream",
     "text": [
      "\n",
      "Name : GP regression\n",
      "Objective : 3894.7892933845956\n",
      "Number of Parameters : 3\n",
      "Number of Optimization Parameters : 3\n",
      "Updates : True\n",
      "Parameters:\n",
      "  \u001b[1mGP_regression.         \u001b[0;0m  |  value  |  constraints  |  priors\n",
      "  \u001b[1mMat32.variance         \u001b[0;0m  |    1.0  |      +ve      |        \n",
      "  \u001b[1mMat32.lengthscale      \u001b[0;0m  |    1.0  |      +ve      |        \n",
      "  \u001b[1mGaussian_noise.variance\u001b[0;0m  |    1.0  |      +ve      |        \n",
      "\n",
      "Name : GP regression\n",
      "Objective : 276.8729197546231\n",
      "Number of Parameters : 3\n",
      "Number of Optimization Parameters : 3\n",
      "Updates : True\n",
      "Parameters:\n",
      "  \u001b[1mGP_regression.         \u001b[0;0m  |               value  |  constraints  |  priors\n",
      "  \u001b[1mMat32.variance         \u001b[0;0m  |  113.73130268105587  |      +ve      |        \n",
      "  \u001b[1mMat32.lengthscale      \u001b[0;0m  |  1.0000032119486943  |      +ve      |        \n",
      "  \u001b[1mGaussian_noise.variance\u001b[0;0m  |  113.73130267796668  |      +ve      |        \n",
      "-2.598646811156807 11.454545353664475 181.69696626689245\n"
     ]
    }
   ],
   "source": [
    "import GPy\n",
    "k_m = GPy.kern.Matern32(256)\n",
    "model_m = GPy.models.GPRegression(np.array(training_data),\n",
    "                                      np.array(training_data_target)[:,None],\n",
    "                                            k_m)\n",
    "print(model_m)\n",
    "\n",
    "model_m.optimize()\n",
    "print(model_m)\n",
    "\n",
    "from sklearn import metrics\n",
    "\n",
    "accuracy = metrics.r2_score(test_data_target, model_m.predict(np.array(test_data))[0])\n",
    "mae = metrics.mean_absolute_error(test_data_target, model_m.predict(np.array(test_data))[0])\n",
    "mse = metrics.mean_squared_error(test_data_target, model_m.predict(np.array(test_data))[0])\n",
    "\n",
    "print(accuracy, mae, mse)"
   ]
  },
  {
   "cell_type": "markdown",
   "metadata": {},
   "source": [
    "Chose MLP kernel in the end, as the others give weird results sometimes."
   ]
  },
  {
   "cell_type": "code",
   "execution_count": 16,
   "metadata": {},
   "outputs": [],
   "source": [
    "model = model_nn"
   ]
  },
  {
   "cell_type": "code",
   "execution_count": 23,
   "metadata": {},
   "outputs": [
    {
     "data": {
      "text/html": [
       "<style type=\"text/css\">\n",
       ".pd{\n",
       "    font-family: \"Courier New\", Courier, monospace !important;\n",
       "    width: 100%;\n",
       "    padding: 3px;\n",
       "}\n",
       "</style>\n",
       "\n",
       "<p class=pd>\n",
       "<b>Model</b>: GP regression<br>\n",
       "<b>Objective</b>: 102.42503759424349<br>\n",
       "<b>Number of Parameters</b>: 4<br>\n",
       "<b>Number of Optimization Parameters</b>: 4<br>\n",
       "<b>Updates</b>: True<br>\n",
       "</p>\n",
       "<style type=\"text/css\">\n",
       ".tg  {font-family:\"Courier New\", Courier, monospace !important;padding:2px 3px;word-break:normal;border-collapse:collapse;border-spacing:0;border-color:#DCDCDC;margin:0px auto;width:100%;}\n",
       ".tg td{font-family:\"Courier New\", Courier, monospace !important;font-weight:bold;color:#444;background-color:#F7FDFA;border-style:solid;border-width:1px;overflow:hidden;word-break:normal;border-color:#DCDCDC;}\n",
       ".tg th{font-family:\"Courier New\", Courier, monospace !important;font-weight:normal;color:#fff;background-color:#26ADE4;border-style:solid;border-width:1px;overflow:hidden;word-break:normal;border-color:#DCDCDC;}\n",
       ".tg .tg-left{font-family:\"Courier New\", Courier, monospace !important;font-weight:normal;text-align:left;}\n",
       ".tg .tg-center{font-family:\"Courier New\", Courier, monospace !important;font-weight:normal;text-align:center;}\n",
       ".tg .tg-right{font-family:\"Courier New\", Courier, monospace !important;font-weight:normal;text-align:right;}\n",
       "</style>\n",
       "<table class=\"tg\"><tr><th><b>  GP_regression.         </b></th><th><b>                 value</b></th><th><b>constraints</b></th><th><b>priors</b></th></tr>\n",
       "<tr><td class=tg-left>  mlp.variance           </td><td class=tg-right>     598490.2239627186</td><td class=tg-center>    +ve    </td><td class=tg-center>      </td></tr>\n",
       "<tr><td class=tg-left>  mlp.weight_variance    </td><td class=tg-right> 7.934655545217211e-07</td><td class=tg-center>    +ve    </td><td class=tg-center>      </td></tr>\n",
       "<tr><td class=tg-left>  mlp.bias_variance      </td><td class=tg-right>     80958.21991750844</td><td class=tg-center>    +ve    </td><td class=tg-center>      </td></tr>\n",
       "<tr><td class=tg-left>  Gaussian_noise.variance</td><td class=tg-right>5.562684646268137e-309</td><td class=tg-center>    +ve    </td><td class=tg-center>      </td></tr>\n",
       "</table>"
      ],
      "text/plain": [
       "<GPy.models.gp_regression.GPRegression at 0x1196322b0>"
      ]
     },
     "execution_count": 23,
     "metadata": {},
     "output_type": "execute_result"
    }
   ],
   "source": [
    "model"
   ]
  },
  {
   "cell_type": "code",
   "execution_count": 24,
   "metadata": {},
   "outputs": [],
   "source": [
    "with open(r\"/Users/anamaria/Desktop/thesis_pictures/smc/newanalysis/gpmodel.pickle\", \"wb\") as output_file:\n",
    "    pickle.dump(model, output_file)"
   ]
  },
  {
   "cell_type": "markdown",
   "metadata": {},
   "source": [
    "## Testing the three methods with different S:N ratios"
   ]
  },
  {
   "cell_type": "code",
   "execution_count": 78,
   "metadata": {},
   "outputs": [],
   "source": [
    "syntx = 4.0\n",
    "synty = 6.0\n",
    "syntr = 3.0\n",
    "synti = 10.0"
   ]
  },
  {
   "cell_type": "code",
   "execution_count": 90,
   "metadata": {},
   "outputs": [],
   "source": [
    "#SMC approach\n",
    "variance = [20, 5, 2, 0.2]\n",
    "results = []\n",
    "image = Circle()\n",
    "image.set_characteristics(syntx, synty, syntr, synti)\n",
    "image.generate_image_array(baseline_value = 0, steps_in_pixel=9, im_size=16)\n",
    "da = {}\n",
    "da[20] = []\n",
    "da[5] = []\n",
    "da[2] = []\n",
    "da[0.2] = []\n",
    "\n",
    "for i in range(100):\n",
    "    \n",
    "    for var in variance:\n",
    "    \n",
    "        image.add_noise_image(mean = 0, var = var)\n",
    "\n",
    "\n",
    "        max_mean = np.mean(sorted(np.array(image.image_array_noise).reshape(256,1))[-28:-1])\n",
    "        max_max = sorted(np.array(image.image_array_noise).reshape(256,1))[:-1]\n",
    "        da[var].append(np.abs(max_mean-synti))\n"
   ]
  },
  {
   "cell_type": "code",
   "execution_count": 97,
   "metadata": {},
   "outputs": [
    {
     "data": {
      "text/plain": [
       "(0.9185770743310513, 0.5852756389854852)"
      ]
     },
     "execution_count": 97,
     "metadata": {},
     "output_type": "execute_result"
    }
   ],
   "source": [
    "np.mean(da[20]), np.std(da[20])"
   ]
  },
  {
   "cell_type": "code",
   "execution_count": 99,
   "metadata": {},
   "outputs": [
    {
     "data": {
      "text/plain": [
       "(0.7150199522045905, 0.3734898964397541)"
      ]
     },
     "execution_count": 99,
     "metadata": {},
     "output_type": "execute_result"
    }
   ],
   "source": [
    "np.mean(da[5]),np.std(da[5])"
   ]
  },
  {
   "cell_type": "code",
   "execution_count": 100,
   "metadata": {},
   "outputs": [
    {
     "data": {
      "text/plain": [
       "(0.7793254000191996, 0.2705938861265734)"
      ]
     },
     "execution_count": 100,
     "metadata": {},
     "output_type": "execute_result"
    }
   ],
   "source": [
    "np.mean(da[2]),np.std(da[2])"
   ]
  },
  {
   "cell_type": "code",
   "execution_count": 101,
   "metadata": {},
   "outputs": [
    {
     "data": {
      "text/plain": [
       "(0.7805728641320908, 0.09721300001348869)"
      ]
     },
     "execution_count": 101,
     "metadata": {},
     "output_type": "execute_result"
    }
   ],
   "source": [
    "np.mean(da[0.2]),np.std(da[0.2])"
   ]
  },
  {
   "cell_type": "code",
   "execution_count": 48,
   "metadata": {},
   "outputs": [
    {
     "data": {
      "image/png": "[encoded data removed]",
      "text/plain": [
       "<Figure size 432x288 with 1 Axes>"
      ]
     },
     "metadata": {
      "needs_background": "light"
     },
     "output_type": "display_data"
    },
    {
     "data": {
      "image/png": "[encoded data removed]",
      "text/plain": [
       "<Figure size 432x288 with 1 Axes>"
      ]
     },
     "metadata": {
      "needs_background": "light"
     },
     "output_type": "display_data"
    },
    {
     "data": {
      "image/png": "[encoded data removed]",
      "text/plain": [
       "<Figure size 432x288 with 1 Axes>"
      ]
     },
     "metadata": {
      "needs_background": "light"
     },
     "output_type": "display_data"
    },
    {
     "data": {
      "image/png": "[encoded data removed]",
      "text/plain": [
       "<Figure size 432x288 with 1 Axes>"
      ]
     },
     "metadata": {
      "needs_background": "light"
     },
     "output_type": "display_data"
    },
    {
     "data": {
      "image/png": "[encoded data removed]",
      "text/plain": [
       "<Figure size 432x288 with 1 Axes>"
      ]
     },
     "metadata": {
      "needs_background": "light"
     },
     "output_type": "display_data"
    },
    {
     "data": {
      "image/png": "[encoded data removed]",
      "text/plain": [
       "<Figure size 432x288 with 1 Axes>"
      ]
     },
     "metadata": {
      "needs_background": "light"
     },
     "output_type": "display_data"
    },
    {
     "data": {
      "image/png": "[encoded data removed]",
      "text/plain": [
       "<Figure size 432x288 with 1 Axes>"
      ]
     },
     "metadata": {
      "needs_background": "light"
     },
     "output_type": "display_data"
    },
    {
     "data": {
      "image/png": "[encoded data removed]",
      "text/plain": [
       "<Figure size 432x288 with 1 Axes>"
      ]
     },
     "metadata": {
      "needs_background": "light"
     },
     "output_type": "display_data"
    },
    {
     "data": {
      "image/png": "[encoded data removed]",
      "text/plain": [
       "<Figure size 432x288 with 1 Axes>"
      ]
     },
     "metadata": {
      "needs_background": "light"
     },
     "output_type": "display_data"
    },
    {
     "data": {
      "image/png": "[encoded data removed]",
      "text/plain": [
       "<Figure size 432x288 with 1 Axes>"
      ]
     },
     "metadata": {
      "needs_background": "light"
     },
     "output_type": "display_data"
    },
    {
     "data": {
      "image/png": "[encoded data removed]",
      "text/plain": [
       "<Figure size 432x288 with 1 Axes>"
      ]
     },
     "metadata": {
      "needs_background": "light"
     },
     "output_type": "display_data"
    },
    {
     "data": {
      "image/png": "[encoded data removed]",
      "text/plain": [
       "<Figure size 432x288 with 1 Axes>"
      ]
     },
     "metadata": {
      "needs_background": "light"
     },
     "output_type": "display_data"
    }
   ],
   "source": [
    "#SMC approach\n",
    "variance = [20, 5, 2, 0.2]\n",
    "results = []\n",
    "image = Circle()\n",
    "image.set_characteristics(syntx, synty, syntr, synti)\n",
    "image.generate_image_array(baseline_value = 0, steps_in_pixel=9, im_size=16)\n",
    "\n",
    "for var in variance:\n",
    "    \n",
    "    #add noise to image\n",
    "    \n",
    "    image.add_noise_image(mean = 0, var = var)\n",
    "    \n",
    "    fig, ax = plt.subplots(1,1)\n",
    "    plt.imshow(image.image_array_noise)\n",
    "    \n",
    "    ax.axes.get_xaxis().set_visible(False)\n",
    "    ax.axes.get_yaxis().set_visible(False)\n",
    "    fig.savefig('/Users/anamaria/Desktop/thesis_pictures/smc/newanalysis3/initial'+str(var)+'.png', \n",
    "                format = 'png', dpi=300, bbox_inches='tight')\n",
    "\n",
    "    #max method\n",
    "    fig, ax = plt.subplots(1,1)\n",
    "    plt.imshow(locate(image.image_array_noise, \n",
    "        sorted(np.array(image.image_array_noise).reshape(256,1))[-28:-1]))\n",
    "    ax.axes.get_xaxis().set_visible(False)\n",
    "    ax.axes.get_yaxis().set_visible(False)\n",
    "    \n",
    "    max_mean = np.mean(sorted(np.array(image.image_array_noise).reshape(256,1))[-28:-1])\n",
    "    max_max = sorted(np.array(image.image_array_noise).reshape(256,1))[:-1]\n",
    "    fig.savefig('/Users/anamaria/Desktop/thesis_pictures/smc/newanalysis3/max'+str(var)+'.png', \n",
    "                format = 'png', dpi=300, bbox_inches='tight')\n",
    "    \n",
    "    #gpr method\n",
    "\n",
    "    gpr_mean, gpr_var = model.predict(image.image_array_noise.reshape(1,256))\n",
    "\n",
    "\n",
    "    #smc method\n",
    "    particle_number = 500\n",
    "    resampling_steps = 1000 # changed\n",
    "    gaussian_variance = 10 # changed\n",
    "\n",
    "    particle_list = smc.generate_particles(particle_number, \n",
    "                                           baseline_value = 0, random=True)\n",
    "    resampled_items = []\n",
    "\n",
    "    resampled_mean, resampled_var, resampled_items, weights = smc.get_resampled_particles(resampling_steps, \n",
    "                                                        len(particle_list), \n",
    "                                             particle_list,\n",
    "                                             image.image_array_noise, \n",
    "                                             gaussian_variance)\n",
    "\n",
    "    smc_mean = resampled_mean[-1]\n",
    "    smc_var = resampled_var[-1]\n",
    "    \n",
    "    ax,fig =  image.add_circles((resampled_mean[-1][1], resampled_mean[-1][0], resampled_mean[-1][2]))\n",
    "    fig.savefig('/Users/anamaria/Desktop/thesis_pictures/smc/newanalysis3/smc'+str(var)+'.png', \n",
    "                format = 'png', dpi=300, bbox_inches='tight')\n",
    "    \n",
    "    results.append((max_mean, max_max, gpr_mean, gpr_var, smc_mean, smc_var))\n"
   ]
  },
  {
   "cell_type": "code",
   "execution_count": null,
   "metadata": {},
   "outputs": [],
   "source": [
    "syntx = 4.0\n",
    "synty = 6.0\n",
    "syntr = 3.0\n",
    "synti = 10.0\n",
    "\n",
    "syntx = 6.0\n",
    "synty = 12.0\n",
    "syntr = 4.0\n",
    "synti = 10.0\n",
    "\n",
    "syntx = 12.0\n",
    "synty = 4.0\n",
    "syntr = 2.0\n",
    "synti = 10.0\n",
    "\n",
    "\n",
    "#SMC approach\n",
    "variance = [20, 5, 2, 0.2]\n",
    "results = []\n",
    "image = Circle()\n",
    "image.set_characteristics(syntx, synty, syntr, synti)\n",
    "image.generate_image_array(baseline_value = 0, steps_in_pixel=9, im_size=16)\n",
    "\n",
    "for var in variance:\n",
    "    \n",
    "    #add noise to image\n",
    "    \n",
    "    image.add_noise_image(mean = 0, var = var)\n",
    "    \n",
    "    fig, ax = plt.subplots(1,1)\n",
    "    plt.imshow(image.image_array_noise)\n",
    "    \n",
    "    ax.axes.get_xaxis().set_visible(False)\n",
    "    ax.axes.get_yaxis().set_visible(False)\n",
    "    fig.savefig('/Users/anamaria/Desktop/thesis_pictures/smc/newanalysis3/initial'+str(var)+'.png', \n",
    "                format = 'png', dpi=300, bbox_inches='tight')\n",
    "\n",
    "    #max method\n",
    "    fig, ax = plt.subplots(1,1)\n",
    "    plt.imshow(locate(image.image_array_noise, \n",
    "        sorted(np.array(image.image_array_noise).reshape(256,1))[-28:-1]))\n",
    "    ax.axes.get_xaxis().set_visible(False)\n",
    "    ax.axes.get_yaxis().set_visible(False)\n",
    "    \n",
    "    max_mean = np.mean(sorted(np.array(image.image_array_noise).reshape(256,1))[-28:-1])\n",
    "    max_max = sorted(np.array(image.image_array_noise).reshape(256,1))[:-1]\n",
    "    fig.savefig('/Users/anamaria/Desktop/thesis_pictures/smc/newanalysis3/max'+str(var)+'.png', \n",
    "                format = 'png', dpi=300, bbox_inches='tight')\n",
    "    \n",
    "    #gpr method\n",
    "\n",
    "    gpr_mean, gpr_var = model.predict(image.image_array_noise.reshape(1,256))\n",
    "\n",
    "\n",
    "    #smc method\n",
    "    particle_number = 500\n",
    "    resampling_steps = 1000 # changed\n",
    "    gaussian_variance = 10 # changed\n",
    "\n",
    "    particle_list = smc.generate_particles(particle_number, \n",
    "                                           baseline_value = 0, random=True)\n",
    "    resampled_items = []\n",
    "\n",
    "    resampled_mean, resampled_var, resampled_items, weights = smc.get_resampled_particles(resampling_steps, \n",
    "                                                        len(particle_list), \n",
    "                                             particle_list,\n",
    "                                             image.image_array_noise, \n",
    "                                             gaussian_variance)\n",
    "\n",
    "    smc_mean = resampled_mean[-1]\n",
    "    smc_var = resampled_var[-1]\n",
    "    \n",
    "    ax,fig =  image.add_circles((resampled_mean[-1][1], resampled_mean[-1][0], resampled_mean[-1][2]))\n",
    "    fig.savefig('/Users/anamaria/Desktop/thesis_pictures/smc/newanalysis3/smc'+str(var)+'.png', \n",
    "                format = 'png', dpi=300, bbox_inches='tight')\n",
    "    \n",
    "    results.append((max_mean, max_max, gpr_mean, gpr_var, smc_mean, smc_var))\n"
   ]
  },
  {
   "cell_type": "code",
   "execution_count": 49,
   "metadata": {},
   "outputs": [],
   "source": [
    "import pandas as pd\n",
    "\n",
    "results_df = pd.DataFrame(results)"
   ]
  },
  {
   "cell_type": "code",
   "execution_count": 50,
   "metadata": {},
   "outputs": [
    {
     "data": {
      "text/html": [
       "<div>\n",
       "<style scoped>\n",
       "    .dataframe tbody tr th:only-of-type {\n",
       "        vertical-align: middle;\n",
       "    }\n",
       "\n",
       "    .dataframe tbody tr th {\n",
       "        vertical-align: top;\n",
       "    }\n",
       "\n",
       "    .dataframe thead th {\n",
       "        text-align: right;\n",
       "    }\n",
       "</style>\n",
       "<table border=\"1\" class=\"dataframe\">\n",
       "  <thead>\n",
       "    <tr style=\"text-align: right;\">\n",
       "      <th></th>\n",
       "      <th>0</th>\n",
       "      <th>1</th>\n",
       "      <th>2</th>\n",
       "      <th>3</th>\n",
       "      <th>4</th>\n",
       "      <th>5</th>\n",
       "    </tr>\n",
       "  </thead>\n",
       "  <tbody>\n",
       "    <tr>\n",
       "      <th>0</th>\n",
       "      <td>11.298928</td>\n",
       "      <td>[[-11.800429764343692], [-10.757655438863148],...</td>\n",
       "      <td>[[10.517141266303952]]</td>\n",
       "      <td>[[3.0600217401515692]]</td>\n",
       "      <td>(3.93031157284871, 5.862655654524518, 2.869469...</td>\n",
       "      <td>(0.016717600237775687, 0.01609690074953555, 0....</td>\n",
       "    </tr>\n",
       "    <tr>\n",
       "      <th>1</th>\n",
       "      <td>8.334950</td>\n",
       "      <td>[[-4.954146801808595], [-4.78563073902263], [-...</td>\n",
       "      <td>[[9.107659635017626]]</td>\n",
       "      <td>[[0.616909847361967]]</td>\n",
       "      <td>(3.94435287993341, 5.97619422907087, 2.8517412...</td>\n",
       "      <td>(0.02390723681158967, 0.02025496430837869, 0.0...</td>\n",
       "    </tr>\n",
       "    <tr>\n",
       "      <th>2</th>\n",
       "      <td>9.050980</td>\n",
       "      <td>[[-3.7681763345473485], [-3.73827724711824], [...</td>\n",
       "      <td>[[9.944585418357747]]</td>\n",
       "      <td>[[0.2948566214181483]]</td>\n",
       "      <td>(3.9948461508806195, 6.088819158673921, 3.0100...</td>\n",
       "      <td>(0.01577983615300114, 0.017827606119708933, 0....</td>\n",
       "    </tr>\n",
       "    <tr>\n",
       "      <th>3</th>\n",
       "      <td>9.247156</td>\n",
       "      <td>[[-1.4855330069342632], [-1.1944256061170713],...</td>\n",
       "      <td>[[9.97705188515829]]</td>\n",
       "      <td>[[0.029909917153418064]]</td>\n",
       "      <td>(4.000386788341061, 5.9765608353190816, 3.0290...</td>\n",
       "      <td>(0.01848334070667458, 0.019385055288515547, 0....</td>\n",
       "    </tr>\n",
       "  </tbody>\n",
       "</table>\n",
       "</div>"
      ],
      "text/plain": [
       "           0                                                  1  \\\n",
       "0  11.298928  [[-11.800429764343692], [-10.757655438863148],...   \n",
       "1   8.334950  [[-4.954146801808595], [-4.78563073902263], [-...   \n",
       "2   9.050980  [[-3.7681763345473485], [-3.73827724711824], [...   \n",
       "3   9.247156  [[-1.4855330069342632], [-1.1944256061170713],...   \n",
       "\n",
       "                        2                         3  \\\n",
       "0  [[10.517141266303952]]    [[3.0600217401515692]]   \n",
       "1   [[9.107659635017626]]     [[0.616909847361967]]   \n",
       "2   [[9.944585418357747]]    [[0.2948566214181483]]   \n",
       "3    [[9.97705188515829]]  [[0.029909917153418064]]   \n",
       "\n",
       "                                                   4  \\\n",
       "0  (3.93031157284871, 5.862655654524518, 2.869469...   \n",
       "1  (3.94435287993341, 5.97619422907087, 2.8517412...   \n",
       "2  (3.9948461508806195, 6.088819158673921, 3.0100...   \n",
       "3  (4.000386788341061, 5.9765608353190816, 3.0290...   \n",
       "\n",
       "                                                   5  \n",
       "0  (0.016717600237775687, 0.01609690074953555, 0....  \n",
       "1  (0.02390723681158967, 0.02025496430837869, 0.0...  \n",
       "2  (0.01577983615300114, 0.017827606119708933, 0....  \n",
       "3  (0.01848334070667458, 0.019385055288515547, 0....  "
      ]
     },
     "execution_count": 50,
     "metadata": {},
     "output_type": "execute_result"
    }
   ],
   "source": [
    "results_df"
   ]
  },
  {
   "cell_type": "code",
   "execution_count": 51,
   "metadata": {},
   "outputs": [
    {
     "data": {
      "text/plain": [
       "0.08842376344886653"
      ]
     },
     "execution_count": 51,
     "metadata": {},
     "output_type": "execute_result"
    }
   ],
   "source": [
    "results_df[5][0][3]"
   ]
  },
  {
   "cell_type": "code",
   "execution_count": 52,
   "metadata": {},
   "outputs": [
    {
     "data": {
      "text/plain": [
       "0    (3.93031157284871, 5.862655654524518, 2.869469...\n",
       "1    (3.94435287993341, 5.97619422907087, 2.8517412...\n",
       "2    (3.9948461508806195, 6.088819158673921, 3.0100...\n",
       "3    (4.000386788341061, 5.9765608353190816, 3.0290...\n",
       "Name: 4, dtype: object"
      ]
     },
     "execution_count": 52,
     "metadata": {},
     "output_type": "execute_result"
    }
   ],
   "source": [
    "results_df[4]"
   ]
  },
  {
   "cell_type": "code",
   "execution_count": 53,
   "metadata": {},
   "outputs": [],
   "source": [
    "results_df_final = pd.DataFrame([], columns = ['Max', 'GPmean', 'GPvar', 'SMCmean', 'SMCvar'])"
   ]
  },
  {
   "cell_type": "code",
   "execution_count": 54,
   "metadata": {},
   "outputs": [],
   "source": [
    "results_df_final['Max'] = np.abs(np.subtract(results_df[0], synti))"
   ]
  },
  {
   "cell_type": "code",
   "execution_count": 55,
   "metadata": {},
   "outputs": [],
   "source": [
    "results_df_final['GPmean'] = [np.abs(np.subtract(l[0][0], synti)) for l in results_df[2]]"
   ]
  },
  {
   "cell_type": "code",
   "execution_count": 56,
   "metadata": {},
   "outputs": [],
   "source": [
    "results_df_final['GPvar'] = [l[0][0] for l in results_df[3]]"
   ]
  },
  {
   "cell_type": "code",
   "execution_count": 57,
   "metadata": {},
   "outputs": [],
   "source": [
    "results_df_final['SMCmean'] = [np.abs(np.subtract(l[3], synti)) for l in results_df[4]]"
   ]
  },
  {
   "cell_type": "code",
   "execution_count": 58,
   "metadata": {},
   "outputs": [],
   "source": [
    "results_df_final['SMCvar'] = [l[3] for l in results_df[5]]"
   ]
  },
  {
   "cell_type": "code",
   "execution_count": 59,
   "metadata": {},
   "outputs": [],
   "source": [
    "results_df_final.index = ['0.5:1', '2:1', '5:1', '50:1' ]"
   ]
  },
  {
   "cell_type": "code",
   "execution_count": 60,
   "metadata": {},
   "outputs": [],
   "source": [
    "results_df_final = results_df_final.reindex(index=results_df_final.index[::-1])"
   ]
  },
  {
   "cell_type": "code",
   "execution_count": 61,
   "metadata": {},
   "outputs": [
    {
     "data": {
      "text/plain": [
       "<matplotlib.axes._subplots.AxesSubplot at 0x1246cf970>"
      ]
     },
     "execution_count": 61,
     "metadata": {},
     "output_type": "execute_result"
    },
    {
     "data": {
      "image/png": "[encoded data removed]",
      "text/plain": [
       "<Figure size 432x288 with 1 Axes>"
      ]
     },
     "metadata": {
      "needs_background": "light"
     },
     "output_type": "display_data"
    }
   ],
   "source": [
    "results_df_final.plot.bar(y = ['Max', 'GPmean', 'SMCmean'])"
   ]
  },
  {
   "cell_type": "code",
   "execution_count": 62,
   "metadata": {},
   "outputs": [],
   "source": [
    "results_df_final['Maxvar'] = [0,0,0,0]"
   ]
  },
  {
   "cell_type": "code",
   "execution_count": 63,
   "metadata": {},
   "outputs": [
    {
     "data": {
      "text/plain": [
       "<Figure size 432x288 with 0 Axes>"
      ]
     },
     "metadata": {},
     "output_type": "display_data"
    },
    {
     "data": {
      "image/png": "[encoded data removed]",
      "text/plain": [
       "<Figure size 576x288 with 1 Axes>"
      ]
     },
     "metadata": {
      "needs_background": "light"
     },
     "output_type": "display_data"
    }
   ],
   "source": [
    "fig = plt.figure()\n",
    "\n",
    "\n",
    "ax = results_df_final.plot(y = ['Max', 'GPmean', 'SMCmean'], kind='bar', yerr = [results_df_final['Maxvar'],\n",
    "                                                                            results_df_final['GPvar'], \n",
    "                                                                            results_df_final['SMCvar']], \n",
    "        colormap='OrRd_r',edgecolor='black',grid=False,figsize=(8,4),\n",
    "        position=0.45,\n",
    "        error_kw=dict(ecolor='black',elinewidth=0.5, capsize = None, lolims = True),width=0.8)\n",
    "\n",
    "plt.ylabel(r'$\\Delta$ Intensity')\n",
    "plt.xlabel('S:N')\n",
    "plt.savefig('/Users/anamaria/Desktop/thesis_pictures/smc/newanalysis3/comparison1.png', format = 'png', dpi=300, bbox_inches='tight')"
   ]
  },
  {
   "cell_type": "code",
   "execution_count": 43,
   "metadata": {},
   "outputs": [
    {
     "data": {
      "image/png": "[encoded data removed]",
      "text/plain": [
       "<Figure size 468x288 with 1 Axes>"
      ]
     },
     "metadata": {
      "needs_background": "light"
     },
     "output_type": "display_data"
    }
   ],
   "source": [
    "results_df_final.plot.bar(y = ['Max', 'GPmean', 'SMCmean'],\n",
    "        colormap='OrRd_r',edgecolor='black',grid=False,figsize=(6.5,4))\n",
    "\n",
    "plt.ylabel(r'$\\Delta$ Intensity')\n",
    "plt.xlabel('S:N')\n",
    "plt.savefig('/Users/anamaria/Desktop/thesis_pictures/smc/newanalysis2/comparison1mean.png', format = 'png', dpi=300, bbox_inches='tight')"
   ]
  },
  {
   "cell_type": "code",
   "execution_count": 44,
   "metadata": {},
   "outputs": [
    {
     "data": {
      "image/png": "[encoded data removed]",
      "text/plain": [
       "<Figure size 468x288 with 1 Axes>"
      ]
     },
     "metadata": {
      "needs_background": "light"
     },
     "output_type": "display_data"
    }
   ],
   "source": [
    "results_df_final.plot.bar(y = ['Maxvar', 'GPvar', 'SMCvar'],\n",
    "        colormap='OrRd_r',edgecolor='black',grid=False,figsize=(6.5,4))\n",
    "\n",
    "plt.ylabel('Variance')\n",
    "plt.xlabel('S:N')\n",
    "plt.savefig('/Users/anamaria/Desktop/thesis_pictures/smc/newanalysis2/comparison1var.png', format = 'png', dpi=300, bbox_inches='tight')"
   ]
  },
  {
   "cell_type": "code",
   "execution_count": 47,
   "metadata": {},
   "outputs": [],
   "source": [
    "import pandas as pd"
   ]
  },
  {
   "cell_type": "code",
   "execution_count": 52,
   "metadata": {},
   "outputs": [],
   "source": [
    "mean = pd.read_csv('/Users/anamaria/Desktop/Desktop/smc_mean.csv', index_col=0)\n",
    "mean.index = ['50:1','5:1','2:1','0.5:1']"
   ]
  },
  {
   "cell_type": "code",
   "execution_count": 53,
   "metadata": {},
   "outputs": [],
   "source": [
    "var = pd.read_csv('/Users/anamaria/Desktop/Desktop/smc_var.csv', index_col=0)\n",
    "var.index = ['50:1','5:1','2:1','0.5:1']"
   ]
  },
  {
   "cell_type": "code",
   "execution_count": 54,
   "metadata": {},
   "outputs": [
    {
     "data": {
      "image/png": "[encoded data removed]",
      "text/plain": [
       "<Figure size 468x288 with 1 Axes>"
      ]
     },
     "metadata": {
      "needs_background": "light"
     },
     "output_type": "display_data"
    }
   ],
   "source": [
    "mean.plot.bar(y = ['Max', 'GPmean', 'SMCmean'], yerr = [ var['Max'], var['GPmean'], var['SMCmean']],\n",
    "                colormap='OrRd_r',edgecolor='black',grid=False,figsize=(6.5,4),\n",
    "                 error_kw=dict(ecolor='black',elinewidth=0.5, capsize = 1))\n",
    "\n",
    "plt.ylabel(r'$\\Delta$ Intensity')\n",
    "plt.xlabel('S:N')\n",
    "\n",
    "plt.savefig('/Users/anamaria/Desktop/Desktop/thesis_pictures/smc/comparisonfinalmean.pdf', \n",
    "            format = 'pdf', dpi=300, bbox_inches='tight')"
   ]
  },
  {
   "cell_type": "code",
   "execution_count": 55,
   "metadata": {},
   "outputs": [
    {
     "data": {
      "image/png": "[encoded data removed]",
      "text/plain": [
       "<Figure size 468x288 with 1 Axes>"
      ]
     },
     "metadata": {
      "needs_background": "light"
     },
     "output_type": "display_data"
    }
   ],
   "source": [
    "mean.plot.bar(y = ['Maxvar', 'GPvar', 'SMCvar'], yerr = [ var['Maxvar'], var['GPvar'], var['SMCvar']],\n",
    "                colormap='OrRd_r',edgecolor='black',grid=False,figsize=(6.5,4),\n",
    "                 error_kw=dict(ecolor='black',elinewidth=0.5, capsize = 1))\n",
    "\n",
    "plt.ylabel(r'Distribution Variance')\n",
    "plt.xlabel('S:N')\n",
    "\n",
    "plt.savefig('/Users/anamaria/Desktop/Desktop/thesis_pictures/smc/comparisonfinalvar.pdf', \n",
    "            format = 'pdf', dpi=300, bbox_inches='tight')"
   ]
  },
  {
   "cell_type": "code",
   "execution_count": 64,
   "metadata": {},
   "outputs": [],
   "source": [
    "results_df_final.to_csv('/Users/anamaria/Desktop/res2.csv')"
   ]
  },
  {
   "cell_type": "code",
   "execution_count": null,
   "metadata": {},
   "outputs": [],
   "source": []
  },
  {
   "cell_type": "code",
   "execution_count": 22,
   "metadata": {},
   "outputs": [
    {
     "data": {
      "image/png": "[encoded data removed]",
      "text/plain": [
       "<Figure size 432x288 with 1 Axes>"
      ]
     },
     "metadata": {
      "needs_background": "light"
     },
     "output_type": "display_data"
    }
   ],
   "source": [
    "syntcircle = smc.generate_particles(1, variance = 5, coord = [[syntx, synty, syntr, synti]], \n",
    "                                baseline_value=0, add_noise = True)\n",
    "fig, ax = plt.subplots(1,1)\n",
    "plt.imshow(syntcircle[0].image_array_noise)\n",
    "ax.axes.get_xaxis().set_visible(False)\n",
    "ax.axes.get_yaxis().set_visible(False)\n",
    "fig.savefig('/Users/anamaria/Desktop/thesis_pictures/smc/part1010051251000n5i10new.png', format = 'png', dpi=400, bbox_inches='tight')"
   ]
  },
  {
   "cell_type": "code",
   "execution_count": 23,
   "metadata": {},
   "outputs": [
    {
     "data": {
      "text/plain": [
       "(array([[10.64081583]]), array([[0.79409798]]))"
      ]
     },
     "execution_count": 23,
     "metadata": {},
     "output_type": "execute_result"
    }
   ],
   "source": [
    "model.predict(syntcircle[0].image_array_noise.reshape(1,256))"
   ]
  },
  {
   "cell_type": "code",
   "execution_count": 24,
   "metadata": {},
   "outputs": [
    {
     "name": "stdout",
     "output_type": "stream",
     "text": [
      "9.663236263333173\n"
     ]
    },
    {
     "data": {
      "image/png": "[encoded data removed]",
      "text/plain": [
       "<Figure size 432x288 with 1 Axes>"
      ]
     },
     "metadata": {
      "needs_background": "light"
     },
     "output_type": "display_data"
    }
   ],
   "source": [
    "fig, ax = plt.subplots(1,1)\n",
    "plt.imshow(locate(syntcircle[0].image_array_noise, \n",
    "                  sorted(np.array(syntcircle[0].image_array_noise).reshape(256,1))[-28:-1]))\n",
    "ax.axes.get_xaxis().set_visible(False)\n",
    "ax.axes.get_yaxis().set_visible(False)\n",
    "print(np.mean(sorted(np.array(syntcircle[0].image_array_noise).reshape(256,1))[-28:-1]))\n",
    "fig.savefig('/Users/anamaria/Desktop/thesis_pictures/smc/part1010051251000n5i10new_max.png', format = 'png', dpi=400, bbox_inches='tight')"
   ]
  },
  {
   "cell_type": "code",
   "execution_count": 25,
   "metadata": {},
   "outputs": [
    {
     "name": "stdout",
     "output_type": "stream",
     "text": [
      "(4.041155263183989, 5.940623236656887, 2.9784480465083187, 10.266625429033477)\n"
     ]
    }
   ],
   "source": [
    "particle_number = 500\n",
    "resampling_steps = 500 # changed\n",
    "gaussian_variance = 10 # changed\n",
    "\n",
    "particle_list = smc.generate_particles(particle_number, \n",
    "                                       baseline_value = 0, random=True)\n",
    "resampled_items = []\n",
    "\n",
    "resampled_mean, resampled_var, resampled_items, weights = smc.get_resampled_particles(resampling_steps, \n",
    "                                                    len(particle_list), \n",
    "                                         particle_list,\n",
    "                                         syntcircle[0].image_array_noise, \n",
    "                                         gaussian_variance)\n",
    "print(resampled_mean[-1])"
   ]
  },
  {
   "cell_type": "code",
   "execution_count": 26,
   "metadata": {},
   "outputs": [
    {
     "data": {
      "image/png": "[encoded data removed]",
      "text/plain": [
       "<Figure size 432x288 with 1 Axes>"
      ]
     },
     "metadata": {
      "needs_background": "light"
     },
     "output_type": "display_data"
    }
   ],
   "source": [
    "ax,fig =  syntcircle[0].add_circles((resampled_mean[-1][1], \n",
    "                                     resampled_mean[-1][0],\n",
    "                                     resampled_mean[-1][2]))\n",
    "\n",
    "fig.savefig('/Users/anamaria/Desktop/thesis_pictures/smc/partcirc1010051251000n5i10new_smc.png', format = 'png', dpi=400, bbox_inches='tight')"
   ]
  },
  {
   "cell_type": "code",
   "execution_count": null,
   "metadata": {},
   "outputs": [],
   "source": []
  },
  {
   "cell_type": "code",
   "execution_count": null,
   "metadata": {},
   "outputs": [],
   "source": []
  },
  {
   "cell_type": "code",
   "execution_count": 27,
   "metadata": {},
   "outputs": [],
   "source": [
    "syntx = 4.0\n",
    "synty = 6.0\n",
    "syntr = 3.0\n",
    "synti = 25.0"
   ]
  },
  {
   "cell_type": "code",
   "execution_count": 28,
   "metadata": {},
   "outputs": [
    {
     "data": {
      "image/png": "[encoded data removed]",
      "text/plain": [
       "<Figure size 432x288 with 1 Axes>"
      ]
     },
     "metadata": {
      "needs_background": "light"
     },
     "output_type": "display_data"
    }
   ],
   "source": [
    "syntcircle = smc.generate_particles(1, variance = 5, coord = [[syntx, synty, syntr, synti]], \n",
    "                                baseline_value=0, add_noise = True)\n",
    "fig, ax = plt.subplots(1,1)\n",
    "plt.imshow(syntcircle[0].image_array_noise)\n",
    "ax.axes.get_xaxis().set_visible(False)\n",
    "ax.axes.get_yaxis().set_visible(False)\n",
    "fig.savefig('/Users/anamaria/Desktop/thesis_pictures/smc/part1010051251000n5i25new.png', format = 'png', dpi=400, bbox_inches='tight')"
   ]
  },
  {
   "cell_type": "code",
   "execution_count": 29,
   "metadata": {},
   "outputs": [
    {
     "data": {
      "text/plain": [
       "array([[-0.17539295]])"
      ]
     },
     "execution_count": 29,
     "metadata": {},
     "output_type": "execute_result"
    }
   ],
   "source": [
    "synti - model.predict(syntcircle[0].image_array_noise.reshape(1,256))[0]"
   ]
  },
  {
   "cell_type": "code",
   "execution_count": null,
   "metadata": {},
   "outputs": [],
   "source": []
  },
  {
   "cell_type": "code",
   "execution_count": 30,
   "metadata": {},
   "outputs": [
    {
     "name": "stdout",
     "output_type": "stream",
     "text": [
      "1.9195121628080152\n"
     ]
    },
    {
     "data": {
      "image/png": "[encoded data removed]",
      "text/plain": [
       "<Figure size 432x288 with 1 Axes>"
      ]
     },
     "metadata": {
      "needs_background": "light"
     },
     "output_type": "display_data"
    }
   ],
   "source": [
    "fig, ax = plt.subplots(1,1)\n",
    "plt.imshow(locate(syntcircle[0].image_array_noise, \n",
    "                  sorted(np.array(syntcircle[0].image_array_noise).reshape(256,1))[-28:-1]))\n",
    "ax.axes.get_xaxis().set_visible(False)\n",
    "ax.axes.get_yaxis().set_visible(False)\n",
    "print(synti - np.mean(sorted(np.array(syntcircle[0].image_array_noise).reshape(256,1))[-28:-1]))\n",
    "fig.savefig('/Users/anamaria/Desktop/thesis_pictures/smc/part1010051251000n5i25new_max.png', format = 'png', dpi=400, bbox_inches='tight')"
   ]
  },
  {
   "cell_type": "code",
   "execution_count": 31,
   "metadata": {},
   "outputs": [
    {
     "name": "stdout",
     "output_type": "stream",
     "text": [
      "(4.035885410638104, 6.008381610225727, 3.016293014878446, 24.96691768892249)\n"
     ]
    }
   ],
   "source": [
    "particle_number = 500\n",
    "resampling_steps = 500 # changed\n",
    "gaussian_variance = 10 # changed\n",
    "\n",
    "particle_list = smc.generate_particles(particle_number, \n",
    "                                       baseline_value = 0, random=True)\n",
    "resampled_items = []\n",
    "\n",
    "resampled_mean, resampled_var, resampled_items, weights = smc.get_resampled_particles(resampling_steps, \n",
    "                                                    len(particle_list), \n",
    "                                         particle_list,\n",
    "                                         syntcircle[0].image_array_noise, \n",
    "                                         gaussian_variance)\n",
    "print(resampled_mean[-1])"
   ]
  },
  {
   "cell_type": "code",
   "execution_count": 32,
   "metadata": {},
   "outputs": [
    {
     "data": {
      "image/png": "[encoded data removed]",
      "text/plain": [
       "<Figure size 432x288 with 1 Axes>"
      ]
     },
     "metadata": {
      "needs_background": "light"
     },
     "output_type": "display_data"
    }
   ],
   "source": [
    "\n",
    "ax,fig =  syntcircle[0].add_circles((resampled_mean[-1][1], \n",
    "                                     resampled_mean[-1][0],\n",
    "                                     resampled_mean[-1][2]))\n",
    "\n",
    "fig.savefig('/Users/anamaria/Desktop/thesis_pictures/smc/partcirc1010051251000n5i25new_smc.png', format = 'png', dpi=400, bbox_inches='tight')"
   ]
  },
  {
   "cell_type": "code",
   "execution_count": 33,
   "metadata": {},
   "outputs": [
    {
     "data": {
      "image/png": "[encoded data removed]",
      "text/plain": [
       "<Figure size 432x288 with 1 Axes>"
      ]
     },
     "metadata": {
      "needs_background": "light"
     },
     "output_type": "display_data"
    }
   ],
   "source": [
    "syntcircle = smc.generate_particles(1, variance = 0.5, coord = [[syntx, synty, syntr, synti]], \n",
    "                                baseline_value=0, add_noise = True)\n",
    "fig, ax = plt.subplots(1,1)\n",
    "plt.imshow(syntcircle[0].image_array_noise)\n",
    "ax.axes.get_xaxis().set_visible(False)\n",
    "ax.axes.get_yaxis().set_visible(False)\n",
    "fig.savefig('/Users/anamaria/Desktop/thesis_pictures/smc/part1010051251000n05i25new.png', format = 'png', dpi=400, bbox_inches='tight')"
   ]
  },
  {
   "cell_type": "code",
   "execution_count": 35,
   "metadata": {},
   "outputs": [
    {
     "data": {
      "text/plain": [
       "(array([[25.11387858]]), array([[0.06914134]]))"
      ]
     },
     "execution_count": 35,
     "metadata": {},
     "output_type": "execute_result"
    }
   ],
   "source": [
    "model.predict(syntcircle[0].image_array_noise.reshape(1,256))"
   ]
  },
  {
   "cell_type": "code",
   "execution_count": 34,
   "metadata": {},
   "outputs": [
    {
     "name": "stdout",
     "output_type": "stream",
     "text": [
      "23.13089517085165\n"
     ]
    },
    {
     "data": {
      "image/png": "[encoded data removed]",
      "text/plain": [
       "<Figure size 432x288 with 1 Axes>"
      ]
     },
     "metadata": {
      "needs_background": "light"
     },
     "output_type": "display_data"
    }
   ],
   "source": [
    "fig, ax = plt.subplots(1,1)\n",
    "plt.imshow(locate(syntcircle[0].image_array_noise, \n",
    "                  sorted(np.array(syntcircle[0].image_array_noise).reshape(256,1))[-28:-1]))\n",
    "ax.axes.get_xaxis().set_visible(False)\n",
    "ax.axes.get_yaxis().set_visible(False)\n",
    "\n",
    "print(np.mean(sorted(np.array(syntcircle[0].image_array_noise).reshape(256,1))[-28:-1]))\n",
    "fig.savefig('/Users/anamaria/Desktop/thesis_pictures/smc/part1010051251000n05i25new_max.png', format = 'png', dpi=400, bbox_inches='tight')"
   ]
  },
  {
   "cell_type": "code",
   "execution_count": 36,
   "metadata": {},
   "outputs": [
    {
     "name": "stdout",
     "output_type": "stream",
     "text": [
      "(3.994180289885093, 6.006685427884834, 3.0192615295333853, 24.546642722051974)\n"
     ]
    }
   ],
   "source": [
    "particle_number = 500\n",
    "resampling_steps = 500 # changed\n",
    "gaussian_variance = 10 # changed\n",
    "\n",
    "particle_list = smc.generate_particles(particle_number, \n",
    "                                       baseline_value = 0, random=True)\n",
    "resampled_items = []\n",
    "\n",
    "resampled_mean, resampled_var, resampled_items, weights = smc.get_resampled_particles(resampling_steps, \n",
    "                                                    len(particle_list), \n",
    "                                         particle_list,\n",
    "                                         syntcircle[0].image_array_noise, \n",
    "                                         gaussian_variance)\n",
    "print(resampled_mean[-1])"
   ]
  },
  {
   "cell_type": "code",
   "execution_count": 37,
   "metadata": {},
   "outputs": [
    {
     "data": {
      "image/png": "[encoded data removed]",
      "text/plain": [
       "<Figure size 432x288 with 1 Axes>"
      ]
     },
     "metadata": {
      "needs_background": "light"
     },
     "output_type": "display_data"
    }
   ],
   "source": [
    "ax,fig =  syntcircle[0].add_circles((resampled_mean[-1][1], \n",
    "                                     resampled_mean[-1][0],\n",
    "                                     resampled_mean[-1][2]))\n",
    "\n",
    "fig.savefig('/Users/anamaria/Desktop/thesis_pictures/smc/partcirc1010051251000n05i25new_smc.png', format = 'png', dpi=400, bbox_inches='tight')"
   ]
  },
  {
   "cell_type": "code",
   "execution_count": 63,
   "metadata": {},
   "outputs": [],
   "source": [
    "import pandas as pd\n",
    "df = pd.DataFrame([[1.869,0.114,0.449],[1.919,0.175,0.033],[0.337,0.641,0.266], \n",
    "                  [1.659, 0.849, 0.939]], \n",
    "                  columns = ['Max','GPR','SMC'],\n",
    "                  index = ['50:1', '5:1', '2:1', '0.5:1'])"
   ]
  },
  {
   "cell_type": "code",
   "execution_count": 426,
   "metadata": {},
   "outputs": [
    {
     "data": {
      "text/plain": [
       "<Figure size 432x288 with 0 Axes>"
      ]
     },
     "metadata": {},
     "output_type": "display_data"
    },
    {
     "data": {
      "image/png": "[encoded data removed]",
      "text/plain": [
       "<Figure size 432x288 with 1 Axes>"
      ]
     },
     "metadata": {
      "needs_background": "light"
     },
     "output_type": "display_data"
    }
   ],
   "source": [
    "fig = plt.figure()\n",
    "ax1 = df.plot.bar()\n",
    "plt.ylabel(r'$\\Delta$ Intensity')\n",
    "plt.xlabel('S:N')\n",
    "plt.savefig('/Users/anamaria/Desktop/thesis_pictures/smc/comparison.png', format = 'png', dpi=400, bbox_inches='tight')"
   ]
  },
  {
   "cell_type": "code",
   "execution_count": 64,
   "metadata": {},
   "outputs": [
    {
     "data": {
      "text/plain": [
       "<Figure size 432x288 with 0 Axes>"
      ]
     },
     "metadata": {},
     "output_type": "display_data"
    },
    {
     "data": {
      "image/png": "[encoded data removed]",
      "text/plain": [
       "<Figure size 432x288 with 1 Axes>"
      ]
     },
     "metadata": {
      "needs_background": "light"
     },
     "output_type": "display_data"
    }
   ],
   "source": [
    "fig = plt.figure()\n",
    "ax1 = df.plot.bar()\n",
    "plt.ylabel(r'$\\Delta$ Intensity')\n",
    "plt.xlabel('S:N')\n",
    "plt.savefig('/Users/anamaria/Desktop/thesis_pictures/smc/comparison.png', format = 'png', dpi=400, bbox_inches='tight')"
   ]
  },
  {
   "cell_type": "code",
   "execution_count": null,
   "metadata": {},
   "outputs": [],
   "source": [
    "Experiment 2: Test position\n",
    "This time, train the GPR with all coordinates x,y,r. Or only x,y?\n",
    "\n",
    "And for SMC\n",
    "Make 4? synth gen images with different circle locations (and sizes?)"
   ]
  },
  {
   "cell_type": "code",
   "execution_count": 67,
   "metadata": {},
   "outputs": [],
   "source": [
    "insts = []\n",
    "allc = []\n",
    "images = []\n",
    "f = []\n",
    "for i in range(100):\n",
    "    inst = np.random.choice(25,1)[0]\n",
    "    x = np.random.choice(16,1)[0]\n",
    "    y = np.random.choice(16,1)[0]\n",
    "    r = np.random.choice(8,1)[0]\n",
    "    \n",
    "    f.append((inst,x,y,r))\n",
    "    variance = np.random.choice(20,1)[0]\n",
    "    syntcircle = smc.generate_particles(1, variance = 5, coord = [[x, y, r, inst]], \n",
    "                                baseline_value=0, add_noise = True)\n",
    "    images.append(np.array(syntcircle[0].image_array_noise.reshape(1,256)[0]))\n",
    "    \n",
    "      "
   ]
  },
  {
   "cell_type": "code",
   "execution_count": 70,
   "metadata": {},
   "outputs": [
    {
     "name": "stdout",
     "output_type": "stream",
     "text": [
      "\n",
      "Name : GP regression\n",
      "Objective : 3699.478907930372\n",
      "Number of Parameters : 4\n",
      "Number of Optimization Parameters : 4\n",
      "Updates : True\n",
      "Parameters:\n",
      "  \u001b[1mGP_regression.         \u001b[0;0m  |  value  |  constraints  |  priors\n",
      "  \u001b[1mmlp.variance           \u001b[0;0m  |    1.0  |      +ve      |        \n",
      "  \u001b[1mmlp.weight_variance    \u001b[0;0m  |    1.0  |      +ve      |        \n",
      "  \u001b[1mmlp.bias_variance      \u001b[0;0m  |    1.0  |      +ve      |        \n",
      "  \u001b[1mGaussian_noise.variance\u001b[0;0m  |    1.0  |      +ve      |        \n",
      "\n",
      "Name : GP regression\n",
      "Objective : 770.5983063271392\n",
      "Number of Parameters : 4\n",
      "Number of Optimization Parameters : 4\n",
      "Updates : True\n",
      "Parameters:\n",
      "  \u001b[1mGP_regression.         \u001b[0;0m  |               value  |  constraints  |  priors\n",
      "  \u001b[1mmlp.variance           \u001b[0;0m  |  208.97770272681916  |      +ve      |        \n",
      "  \u001b[1mmlp.weight_variance    \u001b[0;0m  |  1.7596595862721254  |      +ve      |        \n",
      "  \u001b[1mmlp.bias_variance      \u001b[0;0m  |  3024057.6721276133  |      +ve      |        \n",
      "  \u001b[1mGaussian_noise.variance\u001b[0;0m  |   7.433598800780744  |      +ve      |        \n",
      "0.5154554529998636 2.4182119853087967 12.372347689510246\n"
     ]
    }
   ],
   "source": [
    "from sklearn.model_selection import train_test_split\n",
    "training_data, test_data, training_data_target, test_data_target = train_test_split(images ,\n",
    "                                                            f, test_size=0.33)   \n",
    "\n",
    "import GPy\n",
    "k = GPy.kern.MLP(256)\n",
    "model_new = GPy.models.GPRegression(np.array(training_data),\n",
    "                                      np.array(training_data_target),\n",
    "                                            k)\n",
    "print(model_new)\n",
    "\n",
    "model_new.optimize()\n",
    "print(model_new)\n",
    "\n",
    "from sklearn import metrics\n",
    "\n",
    "accuracy = metrics.r2_score(test_data_target, model_new.predict(np.array(test_data))[0])\n",
    "mae = metrics.mean_absolute_error(test_data_target, model_new.predict(np.array(test_data))[0])\n",
    "mse = metrics.mean_squared_error(test_data_target, model_new.predict(np.array(test_data))[0])\n",
    "\n",
    "print(accuracy, mae, mse)"
   ]
  },
  {
   "cell_type": "code",
   "execution_count": 17,
   "metadata": {},
   "outputs": [
    {
     "data": {
      "image/png": "[encoded data removed]",
      "text/plain": [
       "<Figure size 432x288 with 1 Axes>"
      ]
     },
     "metadata": {
      "needs_background": "light"
     },
     "output_type": "display_data"
    }
   ],
   "source": [
    "syntx = 4.0\n",
    "synty = 6.0\n",
    "syntr = 3.0\n",
    "synti = 10.0\n",
    "\n",
    "syntcircle = smc.generate_particles(1, variance = 5, coord = [[syntx, synty, syntr, synti]], \n",
    "                                baseline_value=0, add_noise = True)\n",
    "fig, ax = plt.subplots(1,1)\n",
    "plt.imshow(syntcircle[0].image_array_noise)\n",
    "ax.axes.get_xaxis().set_visible(False)\n",
    "ax.axes.get_yaxis().set_visible(False)\n",
    "#fig.savefig('/Users/anamaria/Desktop/thesis_pictures/smc/locate1.png', format = 'png', dpi=400, bbox_inches='tight')"
   ]
  },
  {
   "cell_type": "code",
   "execution_count": 18,
   "metadata": {},
   "outputs": [
    {
     "name": "stdout",
     "output_type": "stream",
     "text": [
      "(array([[9.80250232, 5.15375692, 6.24831636, 3.81498978]]), array([[20.24832385]]))\n"
     ]
    }
   ],
   "source": [
    "bla = model.predict(syntcircle[0].image_array_noise.reshape(1,256))\n",
    "print(bla)"
   ]
  },
  {
   "cell_type": "code",
   "execution_count": 19,
   "metadata": {},
   "outputs": [
    {
     "data": {
      "image/png": "[encoded data removed]",
      "text/plain": [
       "<Figure size 432x288 with 1 Axes>"
      ]
     },
     "metadata": {
      "needs_background": "light"
     },
     "output_type": "display_data"
    }
   ],
   "source": [
    "ax,fig =  syntcircle[0].add_circles((bla[0][0][2], \n",
    "                                     bla[0][0][1],\n",
    "                                     bla[0][0][3]))\n",
    "#fig.savefig('/Users/anamaria/Desktop/thesis_pictures/smc/locate1_gpr.png', format = 'png', dpi=400, bbox_inches='tight')"
   ]
  },
  {
   "cell_type": "code",
   "execution_count": 20,
   "metadata": {},
   "outputs": [
    {
     "name": "stdout",
     "output_type": "stream",
     "text": [
      "9.448027642326432\n"
     ]
    },
    {
     "data": {
      "image/png": "[encoded data removed]",
      "text/plain": [
       "<Figure size 432x288 with 1 Axes>"
      ]
     },
     "metadata": {
      "needs_background": "light"
     },
     "output_type": "display_data"
    }
   ],
   "source": [
    "fig, ax = plt.subplots(1,1)\n",
    "plt.imshow(locate(syntcircle[0].image_array_noise, \n",
    "    sorted(np.array(syntcircle[0].image_array_noise).reshape(256,1))[-28:-1]))\n",
    "ax.axes.get_xaxis().set_visible(False)\n",
    "ax.axes.get_yaxis().set_visible(False)\n",
    "\n",
    "print(np.mean(sorted(np.array(syntcircle[0].image_array_noise).reshape(256,1))[-28:-1]))\n",
    "#fig.savefig('/Users/anamaria/Desktop/thesis_pictures/smc/locate1_max.png', format = 'png', dpi=400, bbox_inches='tight')"
   ]
  },
  {
   "cell_type": "code",
   "execution_count": 21,
   "metadata": {},
   "outputs": [
    {
     "name": "stdout",
     "output_type": "stream",
     "text": [
      "(3.9696312347478906, 5.923215418996713, 3.03682472962274, 10.175411012234877)\n"
     ]
    },
    {
     "data": {
      "image/png": "[encoded data removed]",
      "text/plain": [
       "<Figure size 432x288 with 1 Axes>"
      ]
     },
     "metadata": {
      "needs_background": "light"
     },
     "output_type": "display_data"
    }
   ],
   "source": [
    "particle_number = 500\n",
    "resampling_steps = 1000 # changed\n",
    "gaussian_variance = 10 # changed\n",
    "\n",
    "particle_list = smc.generate_particles(particle_number, \n",
    "                                       baseline_value = 0, random=True)\n",
    "resampled_items = []\n",
    "\n",
    "resampled_mean, resampled_var, resampled_items, weights = smc.get_resampled_particles(resampling_steps, \n",
    "                                                    len(particle_list), \n",
    "                                         particle_list,\n",
    "                                         syntcircle[0].image_array_noise, \n",
    "                                         gaussian_variance)\n",
    "print(resampled_mean[-1])\n",
    "ax,fig =  syntcircle[0].add_circles((resampled_mean[-1][1], \n",
    "                                     resampled_mean[-1][0],\n",
    "                                     resampled_mean[-1][2]))\n",
    "\n",
    "#fig.savefig('/Users/anamaria/Desktop/thesis_pictures/smc/locate1_smc.png', format = 'png', dpi=400, bbox_inches='tight')"
   ]
  },
  {
   "cell_type": "code",
   "execution_count": null,
   "metadata": {},
   "outputs": [],
   "source": []
  },
  {
   "cell_type": "code",
   "execution_count": 22,
   "metadata": {},
   "outputs": [
    {
     "data": {
      "image/png": "[encoded data removed]",
      "text/plain": [
       "<Figure size 432x288 with 1 Axes>"
      ]
     },
     "metadata": {
      "needs_background": "light"
     },
     "output_type": "display_data"
    }
   ],
   "source": [
    "syntx = 6.0\n",
    "synty = 12.0\n",
    "syntr = 4.0\n",
    "synti = 10.0\n",
    "\n",
    "\n",
    "syntcircle = smc.generate_particles(1, variance = 5, coord = [[syntx, synty, syntr, synti]], \n",
    "                                baseline_value=0, add_noise = True)\n",
    "fig, ax = plt.subplots(1,1)\n",
    "plt.imshow(syntcircle[0].image_array_noise)\n",
    "ax.axes.get_xaxis().set_visible(False)\n",
    "ax.axes.get_yaxis().set_visible(False)\n",
    "#fig.savefig('/Users/anamaria/Desktop/thesis_pictures/smc/locate2.png', format = 'png', dpi=400, bbox_inches='tight')"
   ]
  },
  {
   "cell_type": "code",
   "execution_count": 24,
   "metadata": {},
   "outputs": [
    {
     "name": "stdout",
     "output_type": "stream",
     "text": [
      "(array([[10.5502113 ,  4.87556189, 12.19504756,  4.7862395 ]]), array([[21.34639985]]))\n"
     ]
    }
   ],
   "source": [
    "bla = model.predict(syntcircle[0].image_array_noise.reshape(1,256))\n",
    "print(bla)"
   ]
  },
  {
   "cell_type": "code",
   "execution_count": 25,
   "metadata": {},
   "outputs": [
    {
     "data": {
      "image/png": "[encoded data removed]",
      "text/plain": [
       "<Figure size 432x288 with 1 Axes>"
      ]
     },
     "metadata": {
      "needs_background": "light"
     },
     "output_type": "display_data"
    }
   ],
   "source": [
    "ax,fig =  syntcircle[0].add_circles((bla[0][0][2], \n",
    "                                     bla[0][0][1],\n",
    "                                     bla[0][0][3]))\n",
    "#fig.savefig('/Users/anamaria/Desktop/thesis_pictures/smc/locate2_gpr.png', format = 'png', dpi=400, bbox_inches='tight')"
   ]
  },
  {
   "cell_type": "code",
   "execution_count": 26,
   "metadata": {},
   "outputs": [
    {
     "name": "stdout",
     "output_type": "stream",
     "text": [
      "10.932703858880373\n"
     ]
    },
    {
     "data": {
      "image/png": "[encoded data removed]",
      "text/plain": [
       "<Figure size 432x288 with 1 Axes>"
      ]
     },
     "metadata": {
      "needs_background": "light"
     },
     "output_type": "display_data"
    }
   ],
   "source": [
    "fig, ax = plt.subplots(1,1)\n",
    "plt.imshow(locate(syntcircle[0].image_array_noise, \n",
    "    sorted(np.array(syntcircle[0].image_array_noise).reshape(256,1))[-28:-1]))\n",
    "ax.axes.get_xaxis().set_visible(False)\n",
    "ax.axes.get_yaxis().set_visible(False)\n",
    "#fig.savefig('/Users/anamaria/Desktop/thesis_pictures/smc/locate2_max.png', format = 'png', dpi=400, bbox_inches='tight')\n",
    "print(np.mean(sorted(np.array(syntcircle[0].image_array_noise).reshape(256,1))[-28:-1]))"
   ]
  },
  {
   "cell_type": "markdown",
   "metadata": {},
   "source": [
    "#### particle_number = 500\n",
    "resampling_steps = 1000 # changed\n",
    "gaussian_variance = 10 # changed\n",
    "\n",
    "particle_list = smc.generate_particles(particle_number, \n",
    "                                       baseline_value = 0, random=True)\n",
    "resampled_items = []\n",
    "\n",
    "resampled_mean, resampled_var, resampled_items, weights = smc.get_resampled_particles(resampling_steps, \n",
    "                                                    len(particle_list), \n",
    "                                         particle_list,\n",
    "                                         syntcircle[0].image_array_noise, \n",
    "                                         gaussian_variance)\n",
    "print(resampled_mean[-1])\n",
    "ax,fig =  syntcircle[0].add_circles((resampled_mean[-1][1], \n",
    "                                     resampled_mean[-1][0],\n",
    "                                     resampled_mean[-1][2]))\n",
    "\n",
    "#fig.savefig('/Users/anamaria/Desktop/thesis_pictures/smc/locate2_smc.png', format = 'png', dpi=400, bbox_inches='tight')"
   ]
  },
  {
   "cell_type": "code",
   "execution_count": null,
   "metadata": {},
   "outputs": [],
   "source": []
  },
  {
   "cell_type": "code",
   "execution_count": 28,
   "metadata": {},
   "outputs": [
    {
     "data": {
      "image/png": "[encoded data removed]",
      "text/plain": [
       "<Figure size 432x288 with 1 Axes>"
      ]
     },
     "metadata": {
      "needs_background": "light"
     },
     "output_type": "display_data"
    }
   ],
   "source": [
    "syntx = 12.0\n",
    "synty = 4.0\n",
    "syntr = 2.0\n",
    "synti = 10.0\n",
    "syntcircle = smc.generate_particles(1, variance = 5, coord = [[syntx, synty, syntr, synti]], \n",
    "                                baseline_value=0, add_noise = True)\n",
    "fig, ax = plt.subplots(1,1)\n",
    "plt.imshow(syntcircle[0].image_array_noise)\n",
    "ax.axes.get_xaxis().set_visible(False)\n",
    "ax.axes.get_yaxis().set_visible(False)\n",
    "#fig.savefig('/Users/anamaria/Desktop/thesis_pictures/smc/locate3.png', format = 'png', dpi=400, bbox_inches='tight')"
   ]
  },
  {
   "cell_type": "code",
   "execution_count": 29,
   "metadata": {},
   "outputs": [
    {
     "name": "stdout",
     "output_type": "stream",
     "text": [
      "(array([[8.3202487 , 8.12672247, 6.99516387, 2.71364496]]), array([[17.97944224]]))\n"
     ]
    }
   ],
   "source": [
    "bla = model.predict(syntcircle[0].image_array_noise.reshape(1,256))\n",
    "print(bla)"
   ]
  },
  {
   "cell_type": "code",
   "execution_count": 30,
   "metadata": {},
   "outputs": [
    {
     "data": {
      "image/png": "[encoded data removed]",
      "text/plain": [
       "<Figure size 432x288 with 1 Axes>"
      ]
     },
     "metadata": {
      "needs_background": "light"
     },
     "output_type": "display_data"
    }
   ],
   "source": [
    "ax,fig =  syntcircle[0].add_circles((bla[0][0][2], \n",
    "                                     bla[0][0][1],\n",
    "                                     bla[0][0][3]))\n",
    "#fig.savefig('/Users/anamaria/Desktop/thesis_pictures/smc/locate3_gpr.png', format = 'png', dpi=400, bbox_inches='tight')"
   ]
  },
  {
   "cell_type": "code",
   "execution_count": 31,
   "metadata": {},
   "outputs": [
    {
     "name": "stdout",
     "output_type": "stream",
     "text": [
      "6.758728892779815\n"
     ]
    },
    {
     "data": {
      "image/png": "[encoded data removed]",
      "text/plain": [
       "<Figure size 432x288 with 1 Axes>"
      ]
     },
     "metadata": {
      "needs_background": "light"
     },
     "output_type": "display_data"
    }
   ],
   "source": [
    "fig, ax = plt.subplots(1,1)\n",
    "plt.imshow(locate(syntcircle[0].image_array_noise, \n",
    "    sorted(np.array(syntcircle[0].image_array_noise).reshape(256,1))[-28:-1]))\n",
    "ax.axes.get_xaxis().set_visible(False)\n",
    "ax.axes.get_yaxis().set_visible(False)\n",
    "\n",
    "print(np.mean(sorted(np.array(syntcircle[0].image_array_noise).reshape(256,1))[-28:-1]))\n",
    "#fig.savefig('/Users/anamaria/Desktop/thesis_pictures/smc/locate3_max.png', format = 'png', dpi=400, bbox_inches='tight')"
   ]
  },
  {
   "cell_type": "code",
   "execution_count": 32,
   "metadata": {},
   "outputs": [
    {
     "name": "stdout",
     "output_type": "stream",
     "text": [
      "(11.810605291477797, 3.9166871222617945, 2.173753838925495, 9.993775827474575)\n"
     ]
    },
    {
     "data": {
      "image/png": "[encoded data removed]",
      "text/plain": [
       "<Figure size 432x288 with 1 Axes>"
      ]
     },
     "metadata": {
      "needs_background": "light"
     },
     "output_type": "display_data"
    }
   ],
   "source": [
    "particle_number = 500\n",
    "resampling_steps = 1000 # changed\n",
    "gaussian_variance = 10 # changed\n",
    "\n",
    "particle_list = smc.generate_particles(particle_number, \n",
    "                                       baseline_value = 0, random=True)\n",
    "resampled_items = []\n",
    "\n",
    "resampled_mean, resampled_var, resampled_items, weights = smc.get_resampled_particles(resampling_steps, \n",
    "                                                    len(particle_list), \n",
    "                                         particle_list,\n",
    "                                         syntcircle[0].image_array_noise, \n",
    "                                         gaussian_variance)\n",
    "print(resampled_mean[-1])\n",
    "ax,fig =  syntcircle[0].add_circles((resampled_mean[-1][1], \n",
    "                                     resampled_mean[-1][0],\n",
    "                                     resampled_mean[-1][2]))\n",
    "\n",
    "#fig.savefig('/Users/anamaria/Desktop/thesis_pictures/smc/locate3_smc.png', format = 'png', dpi=400, bbox_inches='tight')"
   ]
  },
  {
   "cell_type": "code",
   "execution_count": 34,
   "metadata": {},
   "outputs": [
    {
     "data": {
      "text/plain": [
       "(0.019735303179937803,\n",
       " 0.03996025540393695,\n",
       " 0.017256251159696943,\n",
       " 0.12224607504296944)"
      ]
     },
     "execution_count": 34,
     "metadata": {},
     "output_type": "execute_result"
    }
   ],
   "source": [
    "resampled_var[-1]"
   ]
  },
  {
   "cell_type": "code",
   "execution_count": null,
   "metadata": {},
   "outputs": [],
   "source": []
  },
  {
   "cell_type": "code",
   "execution_count": null,
   "metadata": {},
   "outputs": [],
   "source": []
  },
  {
   "cell_type": "code",
   "execution_count": 53,
   "metadata": {
    "collapsed": true
   },
   "outputs": [
    {
     "ename": "TypeError",
     "evalue": "imread() got an unexpected keyword argument 'dpi'",
     "output_type": "error",
     "traceback": [
      "\u001b[0;31m---------------------------------------------------------------------------\u001b[0m",
      "\u001b[0;31mTypeError\u001b[0m                                 Traceback (most recent call last)",
      "\u001b[0;32m<ipython-input-53-21864059beae>\u001b[0m in \u001b[0;36m<module>\u001b[0;34m\u001b[0m\n\u001b[0;32m----> 1\u001b[0;31m \u001b[0mn20i10\u001b[0m \u001b[0;34m=\u001b[0m \u001b[0mplt\u001b[0m\u001b[0;34m.\u001b[0m\u001b[0mimread\u001b[0m\u001b[0;34m(\u001b[0m\u001b[0;34m'/Users/anamaria/Desktop/thesis_pictures/smc/part1010051251000n20i10.png'\u001b[0m\u001b[0;34m,\u001b[0m \u001b[0mformat\u001b[0m\u001b[0;34m=\u001b[0m\u001b[0;34m'png'\u001b[0m\u001b[0;34m,\u001b[0m \u001b[0mdpi\u001b[0m\u001b[0;34m=\u001b[0m\u001b[0;36m400\u001b[0m\u001b[0;34m)\u001b[0m\u001b[0;34m\u001b[0m\u001b[0;34m\u001b[0m\u001b[0m\n\u001b[0m",
      "\u001b[0;31mTypeError\u001b[0m: imread() got an unexpected keyword argument 'dpi'"
     ]
    }
   ],
   "source": [
    "n20i10 = plt.imread('/Users/anamaria/Desktop/thesis_pictures/smc/part1010051251000n20i10.png', format='png')"
   ]
  },
  {
   "cell_type": "markdown",
   "metadata": {},
   "source": [
    "Set the number of particles to be generated, the resampling steps and the Gaussian variance for calculating the weight of each particle."
   ]
  },
  {
   "cell_type": "code",
   "execution_count": 12,
   "metadata": {},
   "outputs": [],
   "source": [
    "particle_number = 500\n",
    "resampling_steps = 1000 # changed\n",
    "gaussian_variance = 10 # changed"
   ]
  },
  {
   "cell_type": "markdown",
   "metadata": {},
   "source": [
    "Generate the particles."
   ]
  },
  {
   "cell_type": "code",
   "execution_count": 40,
   "metadata": {},
   "outputs": [
    {
     "name": "stdout",
     "output_type": "stream",
     "text": [
      "20.758763074874878\n"
     ]
    }
   ],
   "source": [
    "start = time.time()\n",
    "\n",
    "particle_list = smc.generate_particles(particle_number, baseline_value = 0, random=True)\n",
    "\n",
    "\n",
    "end = time.time()\n",
    "print(end - start)"
   ]
  },
  {
   "cell_type": "markdown",
   "metadata": {},
   "source": [
    "Re-sample the particles. (It takes around 6 minutes to run it for 50 steps and 100 particles.)"
   ]
  },
  {
   "cell_type": "code",
   "execution_count": 41,
   "metadata": {},
   "outputs": [
    {
     "name": "stdout",
     "output_type": "stream",
     "text": [
      "7.981123150387091 7.860544261112013 4.481916649702322 40.113521347013915\n",
      "20.85445840558673 21.481327434123195 4.112763745041958 523.119602875496\n"
     ]
    }
   ],
   "source": [
    "initial_meanx, initial_meany, initial_meanr, initial_meani = smc.get_mean(particle_list)\n",
    "initial_varx, initial_vary, initial_varr, initial_vari = smc.get_var(particle_list)\n",
    "print(initial_meanx, initial_meany, initial_meanr, initial_meani)\n",
    "print(initial_varx, initial_vary, initial_varr, initial_vari)"
   ]
  },
  {
   "cell_type": "code",
   "execution_count": 42,
   "metadata": {},
   "outputs": [
    {
     "name": "stdout",
     "output_type": "stream",
     "text": [
      "22253.847264051437\n"
     ]
    }
   ],
   "source": [
    "particle_number = 500\n",
    "resampling_steps = 500 # changed\n",
    "gaussian_variance = 10 # changed\n",
    "\n",
    "particle_list = smc.generate_particles(particle_number, \n",
    "                                       baseline_value = 0, random=True)\n",
    "resampled_items = []\n",
    "\n",
    "resampled_mean, resampled_var, \n",
    "resampled_items, weights = smc.get_resampled_particles(resampling_steps, \n",
    "                                                    len(particle_list), \n",
    "                                         particle_list,\n",
    "                                         syntcircle[0].image_array_noise, \n",
    "                                         gaussian_variance)\n",
    "ax,fig =  syntcircle[0].add_circles((resampled_mean[-1][1], \n",
    "                                     resampled_mean[-1][0],\n",
    "                                     resampled_mean[-1][2]))\n",
    "\n",
    "fig.savefig('/Users/anamaria/Desktop/thesis_pictures/smc/'+\n",
    "            'partcirc1010051251000n20i10.png',\n",
    "            format = 'png', dpi=400, bbox_inches='tight')"
   ]
  },
  {
   "cell_type": "markdown",
   "metadata": {},
   "source": [
    "Save the results using pickle."
   ]
  },
  {
   "cell_type": "code",
   "execution_count": 43,
   "metadata": {},
   "outputs": [],
   "source": [
    "with open(r\"/Users/anamaria/Desktop/thesis_pictures/smc/pickles/500_1000_n5i10_mean.pickle\", \"wb\") as output_file:\n",
    "    pickle.dump(resampled_mean, output_file)\n",
    "with open(r\"/Users/anamaria/Desktop/thesis_pictures/smc/pickles/500_1000_n5i10_var.pickle\", \"wb\") as output_file:\n",
    "    pickle.dump(resampled_var, output_file)\n",
    "with open(r\"/Users/anamaria/Desktop/thesis_pictures/smc/pickles/500_1000_n5i10_items.pickle\", \"wb\") as output_file:\n",
    "    pickle.dump(resampled_items, output_file)\n",
    "with open(r\"/Users/anamaria/Desktop/thesis_pictures/smc/pickles/500_1000_n5i10_weights.pickle\", \"wb\") as output_file:\n",
    "    pickle.dump(weights, output_file)\n",
    "   "
   ]
  },
  {
   "cell_type": "markdown",
   "metadata": {},
   "source": [
    "Or check old results saved with pickle."
   ]
  },
  {
   "cell_type": "code",
   "execution_count": 36,
   "metadata": {},
   "outputs": [],
   "source": [
    "with open(r\"/Users/anamaria/Desktop/thesis_pictures/smc/pickles/500_1000_n20i10_mean.pickle\", \"rb\") as input_file:\n",
    "    resampled_mean = pickle.load(input_file)\n",
    "with open(r\"/Users/anamaria/Desktop/thesis_pictures/smc/pickles/500_1000_n20i10_var.pickle\", \"rb\") as input_file:\n",
    "    resampled_var = pickle.load(input_file)\n",
    "with open(r\"/Users/anamaria/Desktop/thesis_pictures/smc/pickles/500_1000_n20i10_items.pickle\", \"rb\") as input_file:\n",
    "    resampled_items = pickle.load(input_file)\n",
    "with open(r\"/Users/anamaria/Desktop/thesis_pictures/smc/pickles/500_1000_n20i10_weights.pickle\", \"rb\") as input_file:\n",
    "    weights = pickle.load(input_file)\n",
    "   \n",
    "    "
   ]
  },
  {
   "cell_type": "code",
   "execution_count": 209,
   "metadata": {},
   "outputs": [],
   "source": [
    "with open(r\"/Users/anamaria/Desktop/thesis_pictures/smc/pickles/500_1000_n20i10_mean.pickle\", \"rb\") as input_file1:\n",
    "    resampled_mean_n20i10 = pickle.load(input_file1)\n",
    "with open(r\"/Users/anamaria/Desktop/thesis_pictures/smc/pickles/500_1000_n5i10_mean.pickle\", \"rb\") as input_file2:\n",
    "    resampled_mean_n5i10 = pickle.load(input_file2)\n",
    "with open(r\"/Users/anamaria/Desktop/thesis_pictures/smc/pickles/500_1000_n5_mean.pickle\", \"rb\") as input_file3:\n",
    "    resampled_mean_n5i25 = pickle.load(input_file3)\n",
    "with open(r\"/Users/anamaria/Desktop/thesis_pictures/smc/pickles/500_1000_n0:5_mean.pickle\", \"rb\") as input_file4:\n",
    "    resamples_mean_n05i25 = pickle.load(input_file4)\n",
    "with open(r\"/Users/anamaria/Desktop/thesis_pictures/smc/pickles/500_1000_var.pickle\", \"rb\") as input_file5:\n",
    "    resamples_var_n005i25 = pickle.load(input_file5)\n"
   ]
  },
  {
   "cell_type": "code",
   "execution_count": 215,
   "metadata": {},
   "outputs": [
    {
     "data": {
      "text/plain": [
       "(3.995839586032638, 5.976313984038611, 3.004215400075699, 24.889989028817922)"
      ]
     },
     "execution_count": 215,
     "metadata": {},
     "output_type": "execute_result"
    }
   ],
   "source": [
    "resamples_mean_n05i25[-1]"
   ]
  },
  {
   "cell_type": "code",
   "execution_count": 19,
   "metadata": {},
   "outputs": [
    {
     "data": {
      "image/png": "[encoded data removed]",
      "text/plain": [
       "<Figure size 432x288 with 1 Axes>"
      ]
     },
     "metadata": {
      "needs_background": "light"
     },
     "output_type": "display_data"
    }
   ],
   "source": [
    "ax,fig =  syntcircle[0].add_circles((resampled_mean[-1][1], \n",
    "                                     resampled_mean[-1][0],\n",
    "                                     resampled_mean[-1][2]))\n",
    "\n",
    "fig.savefig('/Users/anamaria/Desktop/thesis_pictures/smc/partcirc1010051251000n20i10.png', format = 'png', dpi=400, bbox_inches='tight')"
   ]
  },
  {
   "cell_type": "markdown",
   "metadata": {},
   "source": [
    "# Plots "
   ]
  },
  {
   "cell_type": "markdown",
   "metadata": {},
   "source": [
    "## Mean"
   ]
  },
  {
   "cell_type": "code",
   "execution_count": 37,
   "metadata": {},
   "outputs": [
    {
     "data": {
      "image/png": "[encoded data removed]",
      "text/plain": [
       "<Figure size 432x288 with 1 Axes>"
      ]
     },
     "metadata": {
      "needs_background": "light"
     },
     "output_type": "display_data"
    }
   ],
   "source": [
    "import pylab as plt\n",
    "fig, ax = plt.subplots(1,1)\n",
    "plt.plot(np.arange(resampling_steps),[y[0] for y in resampled_mean], label = 'Particle circle centre x')\n",
    "\n",
    "plt.hlines(4,xmin = 0, xmax= resampling_steps ,color = 'red', label = 'Actual circle centre x')\n",
    "\n",
    "plt.plot(np.arange(resampling_steps),[y[1] for y in resampled_mean], label = 'Particle circle centre y')\n",
    "\n",
    "plt.hlines(6,xmin = 0, xmax= resampling_steps ,color = 'green', label = 'Actual circle centre y')\n",
    "\n",
    "plt.xlabel('Resampling steps')\n",
    "plt.ylabel('Particles mean')\n",
    "plt.legend(fontsize = 13, loc = 'best')\n",
    "fig.savefig('/Users/anamaria/Desktop/thesis_pictures/smc/mean1010051251000n20xy.png', format = 'png', dpi=400, bbox_inches='tight')\n",
    "\n",
    "#plt.ylim((0,16))"
   ]
  },
  {
   "cell_type": "code",
   "execution_count": 38,
   "metadata": {},
   "outputs": [
    {
     "data": {
      "text/plain": [
       "<matplotlib.legend.Legend at 0x1123faaf0>"
      ]
     },
     "execution_count": 38,
     "metadata": {},
     "output_type": "execute_result"
    },
    {
     "data": {
      "image/png": "[encoded data removed]",
      "text/plain": [
       "<Figure size 432x288 with 1 Axes>"
      ]
     },
     "metadata": {
      "needs_background": "light"
     },
     "output_type": "display_data"
    }
   ],
   "source": [
    "fig, ax = plt.subplots(1,1)\n",
    "plt.plot(np.arange(resampling_steps),[y[2] for y in resampled_mean], label = 'Particle circle radius')\n",
    "plt.hlines(3,xmin = 0, xmax= resampling_steps ,color = 'green', label = 'Actual circle radius')\n",
    "plt.xlabel('Resampling steps')\n",
    "plt.ylabel('Particles mean')\n",
    "plt.legend()\n",
    "fig.savefig('/Users/anamaria/Desktop/thesis_pictures/smc/mean1010051251000n20r.png', format = 'png', dpi=400, bbox_inches='tight')\n",
    "plt.legend(fontsize = 14, loc = 'best')\n",
    "#plt.ylim((0,16))"
   ]
  },
  {
   "cell_type": "code",
   "execution_count": 39,
   "metadata": {},
   "outputs": [
    {
     "data": {
      "image/png": "[encoded data removed]",
      "text/plain": [
       "<Figure size 432x288 with 1 Axes>"
      ]
     },
     "metadata": {
      "needs_background": "light"
     },
     "output_type": "display_data"
    }
   ],
   "source": [
    "fig, ax = plt.subplots(1,1)\n",
    "plt.plot(np.arange(resampling_steps),[y[3] for y in resampled_mean], label = 'Particle circle intensity')\n",
    "#plt.ylim((0,180))\n",
    "\n",
    "plt.hlines(10,xmin = 0, xmax= resampling_steps ,color = 'green', label = 'Actual circle intensity')\n",
    "plt.xlabel('Resampling steps')\n",
    "plt.ylabel('Particles mean')\n",
    "plt.legend(fontsize = 14, loc = 'best')\n",
    "fig.savefig('/Users/anamaria/Desktop/thesis_pictures/smc/mean1010051251000n20i.png', format = 'png', dpi=400, bbox_inches='tight')"
   ]
  },
  {
   "cell_type": "markdown",
   "metadata": {},
   "source": [
    "## Variance"
   ]
  },
  {
   "cell_type": "code",
   "execution_count": 20,
   "metadata": {},
   "outputs": [
    {
     "data": {
      "image/png": "[encoded data removed]",
      "text/plain": [
       "<Figure size 432x288 with 1 Axes>"
      ]
     },
     "metadata": {
      "needs_background": "light"
     },
     "output_type": "display_data"
    }
   ],
   "source": [
    "import pylab as plt\n",
    "fig, ax = plt.subplots(1,1)\n",
    "plt.plot(np.arange(resampling_steps),[y[0] for y in resampled_var], label = 'Particle circle centre x')\n",
    "\n",
    "#plt.hlines(4,xmin = 0, xmax= resampling_steps ,color = 'red')\n",
    "\n",
    "plt.plot(np.arange(resampling_steps),[y[1] for y in resampled_var], label = 'Particle circle centre y')\n",
    "\n",
    "#plt.hlines(6,xmin = 0, xmax= resampling_steps ,color = 'green')\n",
    "\n",
    "plt.xlabel('Resampling steps')\n",
    "plt.ylabel('Variance')\n",
    "plt.legend(fontsize = 14, loc = 'best')\n",
    "fig.savefig('/Users/anamaria/Desktop/thesis_pictures/smc/var1010051251000n20i10xy.png', format = 'png', dpi=400, bbox_inches='tight')\n",
    "\n",
    "#plt.ylim((0,16))"
   ]
  },
  {
   "cell_type": "code",
   "execution_count": 21,
   "metadata": {},
   "outputs": [
    {
     "data": {
      "image/png": "[encoded data removed]",
      "text/plain": [
       "<Figure size 432x288 with 1 Axes>"
      ]
     },
     "metadata": {
      "needs_background": "light"
     },
     "output_type": "display_data"
    }
   ],
   "source": [
    "import pylab as plt\n",
    "fig, ax = plt.subplots(1,1)\n",
    "\n",
    "plt.plot(np.arange(resampling_steps),[y[2] for y in resampled_var], label = 'Particle circle radius')\n",
    "\n",
    "\n",
    "\n",
    "#plt.hlines(6,xmin = 0, xmax= resampling_steps ,color = 'green')\n",
    "\n",
    "plt.xlabel('Resampling steps')\n",
    "plt.ylabel('Variance')\n",
    "plt.legend(fontsize = 14, loc = 'best')\n",
    "fig.savefig('/Users/anamaria/Desktop/thesis_pictures/smc/var1010051251000n20i10r.png', format = 'png', dpi=400, bbox_inches='tight')\n",
    "\n",
    "#plt.ylim((0,16))"
   ]
  },
  {
   "cell_type": "code",
   "execution_count": 22,
   "metadata": {},
   "outputs": [
    {
     "data": {
      "image/png": "[encoded data removed]",
      "text/plain": [
       "<Figure size 432x288 with 1 Axes>"
      ]
     },
     "metadata": {
      "needs_background": "light"
     },
     "output_type": "display_data"
    }
   ],
   "source": [
    "import pylab as plt\n",
    "fig, ax = plt.subplots(1,1)\n",
    "\n",
    "plt.plot(np.arange(resampling_steps),[y[3] for y in resampled_var], label = 'Particle circle intensity')\n",
    "\n",
    "#plt.hlines(6,xmin = 0, xmax= resampling_steps ,color = 'green'\n",
    "#plt.ylim(0,0.3)\n",
    "plt.xlabel('Resampling steps')\n",
    "plt.ylabel('Variance')\n",
    "plt.legend(fontsize = 14, loc = 'best')\n",
    "fig.savefig('/Users/anamaria/Desktop/thesis_pictures/smc/var1010051251000n20i10i.png', format = 'png', dpi=400, bbox_inches='tight')\n",
    "\n"
   ]
  },
  {
   "cell_type": "code",
   "execution_count": 35,
   "metadata": {},
   "outputs": [
    {
     "data": {
      "text/plain": [
       "<matplotlib.legend.Legend at 0x112210a60>"
      ]
     },
     "execution_count": 35,
     "metadata": {},
     "output_type": "execute_result"
    },
    {
     "data": {
      "image/png": "[encoded data removed]",
      "text/plain": [
       "<Figure size 432x288 with 1 Axes>"
      ]
     },
     "metadata": {
      "needs_background": "light"
     },
     "output_type": "display_data"
    }
   ],
   "source": [
    "import pylab as plt\n",
    "fig, ax = plt.subplots(1,1)\n",
    "\n",
    "\n",
    "#plt.plot(np.arange(resampling_steps),[y[3] for y in resamples_var_n005i25], label = 'Particle circle intensity 500')\n",
    "#plt.plot(np.arange(resampling_steps),[y[3] for y in resamples_var_n05i25], label = 'Particle circle intensity 50')\n",
    "#plt.plot(np.arange(resampling_steps),[y[3] for y in resampled_var_n5i25], label = 'Particle circle intensity 5')\n",
    "plt.plot(np.arange(resampling_steps),[y[2] for y in resampled_var_n5i10], label = 'Particle circle radius 2:1')\n",
    "plt.plot(np.arange(resampling_steps),[y[2] for y in resampled_var_n20i10], label = 'Particle circle radius 1:2')\n",
    "\n",
    "#plt.hlines(6,xmin = 0, xmax= resampling_steps ,color = 'green'\n",
    "plt.ylim(0,0.2)\n",
    "plt.xlabel('Resampling steps')\n",
    "plt.ylabel('Variance')\n",
    "plt.legend(fontsize = 14, loc = 'best')\n",
    "#fig.savefig('/Users/anamaria/Desktop/thesis_pictures/smc/var_all.png', format = 'png', dpi=400, bbox_inches='tight')\n",
    "\n"
   ]
  },
  {
   "cell_type": "code",
   "execution_count": null,
   "metadata": {},
   "outputs": [],
   "source": []
  },
  {
   "cell_type": "code",
   "execution_count": null,
   "metadata": {},
   "outputs": [],
   "source": [
    "import pylab as plt\n",
    "fig, ax = plt.subplots(1,1)\n",
    "\n",
    "\n",
    "#plt.plot(np.arange(resampling_steps),[y[3] for y in resamples_var_n005i25], label = 'Particle circle intensity 500')\n",
    "#plt.plot(np.arange(resampling_steps),[y[3] for y in resamples_var_n05i25], label = 'Particle circle intensity 50')\n",
    "#plt.plot(np.arange(resampling_steps),[y[3] for y in resampled_var_n5i25], label = 'Particle circle intensity 5')\n",
    "plt.plot(np.arange(resampling_steps),[y[3] for y in resampled_var_n5i10], label = 'Particle circle intensity 2:1')\n",
    "plt.plot(np.arange(resampling_steps),[y[3] for y in resampled_var_n20i10], label = 'Particle circle intensity 1:2')\n",
    "\n",
    "#plt.hlines(6,xmin = 0, xmax= resampling_steps ,color = 'green'\n",
    "plt.ylim(0,2)\n",
    "plt.xlabel('Resampling steps')\n",
    "plt.ylabel('Variance')\n",
    "plt.legend(fontsize = 14, loc = 'best')\n",
    "#fig.savefig('/Users/anamaria/Desktop/thesis_pictures/smc/var_all.png', format = 'png', dpi=400, bbox_inches='tight')\n",
    "\n"
   ]
  },
  {
   "cell_type": "code",
   "execution_count": 33,
   "metadata": {},
   "outputs": [
    {
     "data": {
      "text/plain": [
       "(0.0, 0.2)"
      ]
     },
     "execution_count": 33,
     "metadata": {},
     "output_type": "execute_result"
    },
    {
     "data": {
      "image/png": "[encoded data removed]",
      "text/plain": [
       "<Figure size 432x288 with 1 Axes>"
      ]
     },
     "metadata": {
      "needs_background": "light"
     },
     "output_type": "display_data"
    }
   ],
   "source": [
    "import pylab as plt\n",
    "fig, ax = plt.subplots(1,1)\n",
    "plt.plot(np.arange(resampling_steps),[y[0] for y in resampled_var_n5i10], label = 'Particle circle centre x 2:1')\n",
    "plt.plot(np.arange(resampling_steps),[y[0] for y in resampled_var_n20i10], label = 'Particle circle centre x 1:2')\n",
    "\n",
    "#plt.hlines(4,xmin = 0, xmax= resampling_steps ,color = 'red')\n",
    "\n",
    "plt.plot(np.arange(resampling_steps),[y[1] for y in resampled_var_n5i10], label = 'Particle circle centre y 2:1')\n",
    "plt.plot(np.arange(resampling_steps),[y[1] for y in resampled_var_n20i10], label = 'Particle circle centre y 1:2')\n",
    "\n",
    "#plt.hlines(6,xmin = 0, xmax= resampling_steps ,color = 'green')\n",
    "\n",
    "plt.xlabel('Resampling steps')\n",
    "plt.ylabel('Variance')\n",
    "plt.legend(fontsize = 14, loc = 'best')\n",
    "#fig.savefig('/Users/anamaria/Desktop/thesis_pictures/smc/var1010051251000n20i10xy.png', format = 'png', dpi=400, bbox_inches='tight')\n",
    "\n",
    "plt.ylim((0,0.2))"
   ]
  },
  {
   "cell_type": "code",
   "execution_count": 46,
   "metadata": {},
   "outputs": [
    {
     "data": {
      "text/plain": [
       "<matplotlib.axes._subplots.AxesSubplot at 0x1148dcfa0>"
      ]
     },
     "execution_count": 46,
     "metadata": {},
     "output_type": "execute_result"
    },
    {
     "data": {
      "image/png": "[encoded data removed]",
      "text/plain": [
       "<Figure size 432x288 with 1 Axes>"
      ]
     },
     "metadata": {
      "needs_background": "light"
     },
     "output_type": "display_data"
    }
   ],
   "source": [
    "import seaborn as sns\n",
    "sns.distplot([y[1] for y in resampled_var_n5i10])\n",
    "sns.distplot([y[1] for y in resampled_var_n20i10])"
   ]
  },
  {
   "cell_type": "code",
   "execution_count": 47,
   "metadata": {},
   "outputs": [
    {
     "data": {
      "text/plain": [
       "<matplotlib.axes._subplots.AxesSubplot at 0x114ac7160>"
      ]
     },
     "execution_count": 47,
     "metadata": {},
     "output_type": "execute_result"
    },
    {
     "data": {
      "image/png": "[encoded data removed]",
      "text/plain": [
       "<Figure size 432x288 with 1 Axes>"
      ]
     },
     "metadata": {
      "needs_background": "light"
     },
     "output_type": "display_data"
    }
   ],
   "source": [
    "sns.distplot([y[1] for y in resampled_var_n20i10])"
   ]
  },
  {
   "cell_type": "markdown",
   "metadata": {},
   "source": [
    "## Histograms"
   ]
  },
  {
   "cell_type": "code",
   "execution_count": 94,
   "metadata": {},
   "outputs": [],
   "source": [
    "intensity_list = []\n",
    "radius_list = []\n",
    "x_list = []\n",
    "y_list = []\n",
    "\n",
    "for i in range(resampling_steps):\n",
    "    for j in range(particle_number-1):\n",
    "        intensity_list.append(resampled_items[i][j+1].intensity)\n",
    "for i in range(resampling_steps):\n",
    "    for j in range(particle_number-1):\n",
    "        radius_list.append(resampled_items[i][j+1].radius)\n",
    "for i in range(resampling_steps):\n",
    "    for j in range(particle_number-1):\n",
    "        x_list.append(resampled_items[i][j+1].centre_x)\n",
    "for i in range(resampling_steps):\n",
    "    for j in range(particle_number-1):\n",
    "        y_list.append(resampled_items[i][j+1].centre_y)       "
   ]
  },
  {
   "cell_type": "code",
   "execution_count": 95,
   "metadata": {},
   "outputs": [
    {
     "data": {
      "image/png": "[encoded data removed]",
      "text/plain": [
       "<Figure size 432x288 with 1 Axes>"
      ]
     },
     "metadata": {
      "needs_background": "light"
     },
     "output_type": "display_data"
    }
   ],
   "source": [
    "fig, ax = plt.subplots(1,1)\n",
    "plt.hist(x_list, color = 'blue', edgecolor = 'black',\n",
    "         bins = int(180/5), label = 'Particle circle centre x')\n",
    "plt.hist(y_list, color = 'green', edgecolor = 'black',\n",
    "         bins = int(180/5), label = 'Particle circle centre y')\n",
    "plt.ylim((0,150000))\n",
    "plt.ylabel('Count')\n",
    "plt.xlabel('Particles mean')\n",
    "plt.legend(fontsize = 12)\n",
    "fig.savefig('/Users/anamaria/Desktop/thesis_pictures/smc/hist1025052501000n5xy.png', format = 'png', dpi=400, bbox_inches='tight')"
   ]
  },
  {
   "cell_type": "code",
   "execution_count": 96,
   "metadata": {},
   "outputs": [
    {
     "data": {
      "image/png": "[encoded data removed]",
      "text/plain": [
       "<Figure size 432x288 with 1 Axes>"
      ]
     },
     "metadata": {
      "needs_background": "light"
     },
     "output_type": "display_data"
    }
   ],
   "source": [
    "fig, ax = plt.subplots(1,1)\n",
    "plt.hist(radius_list, color = 'blue', edgecolor = 'black',\n",
    "         bins = int(180/5), label = 'Particle circle radius')\n",
    "plt.ylim((0,150000))\n",
    "plt.ylabel('Count')\n",
    "plt.xlabel('Particles mean')\n",
    "plt.legend(fontsize = 12)\n",
    "fig.savefig('/Users/anamaria/Desktop/thesis_pictures/smc/hist1025052501000n5r.png', format = 'png', dpi=400, bbox_inches='tight')"
   ]
  },
  {
   "cell_type": "code",
   "execution_count": 97,
   "metadata": {},
   "outputs": [
    {
     "data": {
      "image/png": "[encoded data removed]",
      "text/plain": [
       "<Figure size 432x288 with 1 Axes>"
      ]
     },
     "metadata": {
      "needs_background": "light"
     },
     "output_type": "display_data"
    }
   ],
   "source": [
    "fig, ax = plt.subplots(1,1)\n",
    "plt.hist(intensity_list, color = 'blue', edgecolor = 'black',\n",
    "         bins = int(180/5), label = 'Particle circle intensity')\n",
    "plt.ylim((0,150000))\n",
    "plt.ylabel('Count')\n",
    "plt.xlabel('Particles mean')\n",
    "plt.legend(fontsize = 12)\n",
    "fig.savefig('/Users/anamaria/Desktop/thesis_pictures/smc/hist1025052501000n5i.png', format = 'png', dpi=400, bbox_inches='tight')"
   ]
  },
  {
   "cell_type": "code",
   "execution_count": 32,
   "metadata": {},
   "outputs": [
    {
     "data": {
      "image/png": "[encoded data removed]",
      "text/plain": [
       "<Figure size 432x288 with 1 Axes>"
      ]
     },
     "metadata": {
      "needs_background": "light"
     },
     "output_type": "display_data"
    }
   ],
   "source": [
    "fig, ax = plt.subplots(1,1)\n",
    "plt.plot([np.var(w) for w in weights], '.')\n",
    "plt.ylim(0.00,0.8*10**-5)\n",
    "plt.ylabel('Maximum weight')\n",
    "plt.xlabel('Resampling steps')\n",
    "fig.savefig('/Users/anamaria/Desktop/thesis_pictures/smc/weightsvar1010055001000n0_5.png', format = 'png', dpi=400, bbox_inches='tight')"
   ]
  },
  {
   "cell_type": "code",
   "execution_count": 51,
   "metadata": {},
   "outputs": [
    {
     "data": {
      "image/png": "[encoded data removed]",
      "text/plain": [
       "<Figure size 432x288 with 1 Axes>"
      ]
     },
     "metadata": {
      "needs_background": "light"
     },
     "output_type": "display_data"
    }
   ],
   "source": [
    "fig, ax = plt.subplots(1,1)\n",
    "plt.plot([np.var(w) for w in weights], '.')\n",
    "plt.ylim(0.00,0.2*10**-5)\n",
    "plt.ylabel('Maximum weight')\n",
    "plt.xlabel('Resampling steps')\n",
    "fig.savefig('/Users/anamaria/Desktop/thesis_pictures/smc/weightsvar1010055001000n20.png', format = 'png', dpi=400, bbox_inches='tight')"
   ]
  },
  {
   "cell_type": "code",
   "execution_count": null,
   "metadata": {},
   "outputs": [],
   "source": []
  }
 ],
 "metadata": {
  "kernelspec": {
   "display_name": "Python 3",
   "language": "python",
   "name": "python3"
  },
  "language_info": {
   "codemirror_mode": {
    "name": "ipython",
    "version": 3
   },
   "file_extension": ".py",
   "mimetype": "text/x-python",
   "name": "python",
   "nbconvert_exporter": "python",
   "pygments_lexer": "ipython3",
   "version": "3.8.1"
  }
 },
 "nbformat": 4,
 "nbformat_minor": 1
}
